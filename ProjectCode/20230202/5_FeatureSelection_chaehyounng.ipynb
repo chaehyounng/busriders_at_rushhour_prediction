{
 "cells": [
  {
   "cell_type": "markdown",
   "id": "ce0ba82a",
   "metadata": {},
   "source": [
    "# 5_Feature Selection & Fitting Model"
   ]
  },
  {
   "cell_type": "markdown",
   "id": "2fdf3cfc",
   "metadata": {},
   "source": [
    "1. 변수 선택 + a -> 최종 데이터셋 만들기  \n",
    "2. 간단한 모델에 돌려보기 -> 다중 선형 회귀, 릿지 회귀(, k-최근접이웃 회귀, 분류나무) -> 최종 데이터셋 선정\n",
    "3. 돌릴 수 있는 모델 공부해오기"
   ]
  },
  {
   "cell_type": "markdown",
   "id": "d13ec7e6",
   "metadata": {},
   "source": [
    "**데이콘 평가 기준 : RMSE**  \n",
    "mse : 실제값과 예측값의 차이를 제곱해서 평균한 것  \n",
    "rmse : mse에서 루트를 씌운 값  \n",
    "*두 값 모두 error이기 때문에 값이 작을수록 좋은 것 , r2adj (1에 가까워야 좋음) 랑 다름*"
   ]
  },
  {
   "cell_type": "code",
   "execution_count": 1,
   "id": "a2b5a5dd",
   "metadata": {},
   "outputs": [],
   "source": [
    "%matplotlib inline\n",
    "import os\n",
    "from pathlib import Path\n",
    "import numpy as np\n",
    "import pandas as pd\n",
    "from pandas.plotting import scatter_matrix, parallel_coordinates\n",
    "import seaborn as sns\n",
    "import matplotlib.pylab as plt\n",
    "import warnings"
   ]
  },
  {
   "cell_type": "code",
   "execution_count": 2,
   "id": "bb66b737",
   "metadata": {},
   "outputs": [],
   "source": [
    "train = pd.read_csv(\"C:/Users/kimch/Desktop/229255_bus_riders_at_rush_hour_data/pre3_train\")\n",
    "train.set_index('id', inplace=True)\n",
    "test = pd.read_csv(\"C:/Users/kimch/Desktop/229255_bus_riders_at_rush_hour_data/pre3_test\")\n",
    "test.set_index('id', inplace=True)"
   ]
  },
  {
   "cell_type": "code",
   "execution_count": 3,
   "id": "e953351c",
   "metadata": {},
   "outputs": [],
   "source": [
    "# DateTime Index랑 범주형 변수는 데이터셋에 저장이 안되는건가 다시 설정해줌\n",
    "train[\"date\"] = pd.to_datetime(train.date, format='%Y-%m-%d')\n",
    "test[\"date\"] = pd.to_datetime(test.date, format=\"%Y-%m-%d\")\n",
    "\n",
    "categorical = [\"weather\", \"bus_route_class\"]\n",
    "train[categorical] = train[categorical].astype('category')\n",
    "test[categorical] = test[categorical].astype('category')"
   ]
  },
  {
   "cell_type": "code",
   "execution_count": 4,
   "id": "75bf24c2",
   "metadata": {},
   "outputs": [],
   "source": [
    "# # 아래 변수들 삭제할까 했는데 삭제 안했을 때 rmse 점수 더 낮아져서 삭제 안하고 냅두기로 함\n",
    "# # 지역변수 north만 남겨두기\n",
    "# train = train.drop(columns=[\"region_other\", \"region_south\", \"region_west\"])\n",
    "# test = test.drop(columns=[\"region_other\", \"region_south\", \"region_west\"])\n",
    "# # 요일변수 삭제\n",
    "# train = train.drop(columns=['dayofwk_mon', 'dayofwk_sat', 'dayofwk_sun', 'dayofwk_thur', 'dayofwk_tue', 'dayofwk_wed'])\n",
    "# test = test.drop(columns=['dayofwk_mon', 'dayofwk_sat', 'dayofwk_sun', 'dayofwk_thur', 'dayofwk_tue', 'dayofwk_wed'])\n",
    "# # 휴일변수 삭제\n",
    "# train = train.drop(columns=['holiday_1'])\n",
    "# test = test.drop(columns=['holiday_1'])"
   ]
  },
  {
   "cell_type": "code",
   "execution_count": 5,
   "id": "94514b40",
   "metadata": {},
   "outputs": [
    {
     "data": {
      "text/html": [
       "<div>\n",
       "<style scoped>\n",
       "    .dataframe tbody tr th:only-of-type {\n",
       "        vertical-align: middle;\n",
       "    }\n",
       "\n",
       "    .dataframe tbody tr th {\n",
       "        vertical-align: top;\n",
       "    }\n",
       "\n",
       "    .dataframe thead th {\n",
       "        text-align: right;\n",
       "    }\n",
       "</style>\n",
       "<table border=\"1\" class=\"dataframe\">\n",
       "  <thead>\n",
       "    <tr style=\"text-align: right;\">\n",
       "      <th></th>\n",
       "      <th>date</th>\n",
       "      <th>bus_route_id</th>\n",
       "      <th>station_code</th>\n",
       "      <th>station_name</th>\n",
       "      <th>latitude</th>\n",
       "      <th>longitude</th>\n",
       "      <th>6~7_ride</th>\n",
       "      <th>7~8_ride</th>\n",
       "      <th>8~9_ride</th>\n",
       "      <th>9~10_ride</th>\n",
       "      <th>...</th>\n",
       "      <th>region_south</th>\n",
       "      <th>region_west</th>\n",
       "      <th>dayofwk_mon</th>\n",
       "      <th>dayofwk_sat</th>\n",
       "      <th>dayofwk_sun</th>\n",
       "      <th>dayofwk_thur</th>\n",
       "      <th>dayofwk_tue</th>\n",
       "      <th>dayofwk_wed</th>\n",
       "      <th>holiday_1</th>\n",
       "      <th>inout_out</th>\n",
       "    </tr>\n",
       "    <tr>\n",
       "      <th>id</th>\n",
       "      <th></th>\n",
       "      <th></th>\n",
       "      <th></th>\n",
       "      <th></th>\n",
       "      <th></th>\n",
       "      <th></th>\n",
       "      <th></th>\n",
       "      <th></th>\n",
       "      <th></th>\n",
       "      <th></th>\n",
       "      <th></th>\n",
       "      <th></th>\n",
       "      <th></th>\n",
       "      <th></th>\n",
       "      <th></th>\n",
       "      <th></th>\n",
       "      <th></th>\n",
       "      <th></th>\n",
       "      <th></th>\n",
       "      <th></th>\n",
       "      <th></th>\n",
       "    </tr>\n",
       "  </thead>\n",
       "  <tbody>\n",
       "    <tr>\n",
       "      <th>0</th>\n",
       "      <td>2019-09-01</td>\n",
       "      <td>4270000</td>\n",
       "      <td>344</td>\n",
       "      <td>제주썬호텔</td>\n",
       "      <td>33.48990</td>\n",
       "      <td>126.49373</td>\n",
       "      <td>0.000000</td>\n",
       "      <td>0.693147</td>\n",
       "      <td>1.098612</td>\n",
       "      <td>1.791759</td>\n",
       "      <td>...</td>\n",
       "      <td>0</td>\n",
       "      <td>0</td>\n",
       "      <td>0</td>\n",
       "      <td>0</td>\n",
       "      <td>0</td>\n",
       "      <td>0</td>\n",
       "      <td>0</td>\n",
       "      <td>1</td>\n",
       "      <td>0</td>\n",
       "      <td>1</td>\n",
       "    </tr>\n",
       "    <tr>\n",
       "      <th>1</th>\n",
       "      <td>2019-09-01</td>\n",
       "      <td>4270000</td>\n",
       "      <td>357</td>\n",
       "      <td>한라병원</td>\n",
       "      <td>33.48944</td>\n",
       "      <td>126.48508</td>\n",
       "      <td>0.693147</td>\n",
       "      <td>1.609438</td>\n",
       "      <td>1.609438</td>\n",
       "      <td>1.098612</td>\n",
       "      <td>...</td>\n",
       "      <td>0</td>\n",
       "      <td>0</td>\n",
       "      <td>0</td>\n",
       "      <td>0</td>\n",
       "      <td>0</td>\n",
       "      <td>0</td>\n",
       "      <td>0</td>\n",
       "      <td>1</td>\n",
       "      <td>0</td>\n",
       "      <td>1</td>\n",
       "    </tr>\n",
       "    <tr>\n",
       "      <th>2</th>\n",
       "      <td>2019-09-01</td>\n",
       "      <td>4270000</td>\n",
       "      <td>432</td>\n",
       "      <td>정존마을</td>\n",
       "      <td>33.48181</td>\n",
       "      <td>126.47352</td>\n",
       "      <td>0.693147</td>\n",
       "      <td>0.693147</td>\n",
       "      <td>0.000000</td>\n",
       "      <td>1.098612</td>\n",
       "      <td>...</td>\n",
       "      <td>0</td>\n",
       "      <td>0</td>\n",
       "      <td>0</td>\n",
       "      <td>0</td>\n",
       "      <td>0</td>\n",
       "      <td>0</td>\n",
       "      <td>0</td>\n",
       "      <td>1</td>\n",
       "      <td>0</td>\n",
       "      <td>1</td>\n",
       "    </tr>\n",
       "    <tr>\n",
       "      <th>3</th>\n",
       "      <td>2019-09-01</td>\n",
       "      <td>4270000</td>\n",
       "      <td>1579</td>\n",
       "      <td>제주국제공항(600번)</td>\n",
       "      <td>33.50577</td>\n",
       "      <td>126.49252</td>\n",
       "      <td>0.000000</td>\n",
       "      <td>2.890372</td>\n",
       "      <td>1.945910</td>\n",
       "      <td>3.295837</td>\n",
       "      <td>...</td>\n",
       "      <td>0</td>\n",
       "      <td>0</td>\n",
       "      <td>0</td>\n",
       "      <td>0</td>\n",
       "      <td>0</td>\n",
       "      <td>0</td>\n",
       "      <td>0</td>\n",
       "      <td>1</td>\n",
       "      <td>0</td>\n",
       "      <td>0</td>\n",
       "    </tr>\n",
       "    <tr>\n",
       "      <th>4</th>\n",
       "      <td>2019-09-01</td>\n",
       "      <td>4270000</td>\n",
       "      <td>1646</td>\n",
       "      <td>중문관광단지입구</td>\n",
       "      <td>33.25579</td>\n",
       "      <td>126.41260</td>\n",
       "      <td>0.000000</td>\n",
       "      <td>0.000000</td>\n",
       "      <td>0.000000</td>\n",
       "      <td>0.000000</td>\n",
       "      <td>...</td>\n",
       "      <td>1</td>\n",
       "      <td>0</td>\n",
       "      <td>0</td>\n",
       "      <td>0</td>\n",
       "      <td>0</td>\n",
       "      <td>0</td>\n",
       "      <td>0</td>\n",
       "      <td>1</td>\n",
       "      <td>0</td>\n",
       "      <td>0</td>\n",
       "    </tr>\n",
       "    <tr>\n",
       "      <th>...</th>\n",
       "      <td>...</td>\n",
       "      <td>...</td>\n",
       "      <td>...</td>\n",
       "      <td>...</td>\n",
       "      <td>...</td>\n",
       "      <td>...</td>\n",
       "      <td>...</td>\n",
       "      <td>...</td>\n",
       "      <td>...</td>\n",
       "      <td>...</td>\n",
       "      <td>...</td>\n",
       "      <td>...</td>\n",
       "      <td>...</td>\n",
       "      <td>...</td>\n",
       "      <td>...</td>\n",
       "      <td>...</td>\n",
       "      <td>...</td>\n",
       "      <td>...</td>\n",
       "      <td>...</td>\n",
       "      <td>...</td>\n",
       "      <td>...</td>\n",
       "    </tr>\n",
       "    <tr>\n",
       "      <th>415418</th>\n",
       "      <td>2019-09-30</td>\n",
       "      <td>32820000</td>\n",
       "      <td>1129</td>\n",
       "      <td>한림환승정류장(한림리)</td>\n",
       "      <td>33.41437</td>\n",
       "      <td>126.26336</td>\n",
       "      <td>1.609438</td>\n",
       "      <td>0.000000</td>\n",
       "      <td>0.000000</td>\n",
       "      <td>0.000000</td>\n",
       "      <td>...</td>\n",
       "      <td>0</td>\n",
       "      <td>1</td>\n",
       "      <td>0</td>\n",
       "      <td>0</td>\n",
       "      <td>0</td>\n",
       "      <td>1</td>\n",
       "      <td>0</td>\n",
       "      <td>0</td>\n",
       "      <td>0</td>\n",
       "      <td>0</td>\n",
       "    </tr>\n",
       "    <tr>\n",
       "      <th>415419</th>\n",
       "      <td>2019-09-30</td>\n",
       "      <td>32820000</td>\n",
       "      <td>1564</td>\n",
       "      <td>제주시외버스터미널</td>\n",
       "      <td>33.49946</td>\n",
       "      <td>126.51479</td>\n",
       "      <td>1.609438</td>\n",
       "      <td>0.000000</td>\n",
       "      <td>0.000000</td>\n",
       "      <td>0.000000</td>\n",
       "      <td>...</td>\n",
       "      <td>0</td>\n",
       "      <td>0</td>\n",
       "      <td>0</td>\n",
       "      <td>0</td>\n",
       "      <td>0</td>\n",
       "      <td>1</td>\n",
       "      <td>0</td>\n",
       "      <td>0</td>\n",
       "      <td>0</td>\n",
       "      <td>0</td>\n",
       "    </tr>\n",
       "    <tr>\n",
       "      <th>415420</th>\n",
       "      <td>2019-09-30</td>\n",
       "      <td>32820000</td>\n",
       "      <td>2322</td>\n",
       "      <td>해병부대</td>\n",
       "      <td>33.23100</td>\n",
       "      <td>126.26273</td>\n",
       "      <td>0.000000</td>\n",
       "      <td>0.000000</td>\n",
       "      <td>0.000000</td>\n",
       "      <td>0.000000</td>\n",
       "      <td>...</td>\n",
       "      <td>0</td>\n",
       "      <td>1</td>\n",
       "      <td>0</td>\n",
       "      <td>0</td>\n",
       "      <td>0</td>\n",
       "      <td>1</td>\n",
       "      <td>0</td>\n",
       "      <td>0</td>\n",
       "      <td>0</td>\n",
       "      <td>0</td>\n",
       "    </tr>\n",
       "    <tr>\n",
       "      <th>415421</th>\n",
       "      <td>2019-09-30</td>\n",
       "      <td>32820000</td>\n",
       "      <td>3291</td>\n",
       "      <td>애월환승정류장(애월리)</td>\n",
       "      <td>33.46483</td>\n",
       "      <td>126.31870</td>\n",
       "      <td>0.693147</td>\n",
       "      <td>0.000000</td>\n",
       "      <td>0.000000</td>\n",
       "      <td>0.000000</td>\n",
       "      <td>...</td>\n",
       "      <td>0</td>\n",
       "      <td>1</td>\n",
       "      <td>0</td>\n",
       "      <td>0</td>\n",
       "      <td>0</td>\n",
       "      <td>1</td>\n",
       "      <td>0</td>\n",
       "      <td>0</td>\n",
       "      <td>0</td>\n",
       "      <td>0</td>\n",
       "    </tr>\n",
       "    <tr>\n",
       "      <th>415422</th>\n",
       "      <td>2019-09-30</td>\n",
       "      <td>32820000</td>\n",
       "      <td>6115100</td>\n",
       "      <td>서귀포시외버스터미널</td>\n",
       "      <td>33.24873</td>\n",
       "      <td>126.50799</td>\n",
       "      <td>0.000000</td>\n",
       "      <td>0.000000</td>\n",
       "      <td>0.000000</td>\n",
       "      <td>0.000000</td>\n",
       "      <td>...</td>\n",
       "      <td>1</td>\n",
       "      <td>0</td>\n",
       "      <td>0</td>\n",
       "      <td>0</td>\n",
       "      <td>0</td>\n",
       "      <td>1</td>\n",
       "      <td>0</td>\n",
       "      <td>0</td>\n",
       "      <td>0</td>\n",
       "      <td>0</td>\n",
       "    </tr>\n",
       "  </tbody>\n",
       "</table>\n",
       "<p>415423 rows × 33 columns</p>\n",
       "</div>"
      ],
      "text/plain": [
       "             date  bus_route_id  station_code  station_name  latitude  \\\n",
       "id                                                                      \n",
       "0      2019-09-01       4270000           344         제주썬호텔  33.48990   \n",
       "1      2019-09-01       4270000           357          한라병원  33.48944   \n",
       "2      2019-09-01       4270000           432          정존마을  33.48181   \n",
       "3      2019-09-01       4270000          1579  제주국제공항(600번)  33.50577   \n",
       "4      2019-09-01       4270000          1646      중문관광단지입구  33.25579   \n",
       "...           ...           ...           ...           ...       ...   \n",
       "415418 2019-09-30      32820000          1129  한림환승정류장(한림리)  33.41437   \n",
       "415419 2019-09-30      32820000          1564     제주시외버스터미널  33.49946   \n",
       "415420 2019-09-30      32820000          2322          해병부대  33.23100   \n",
       "415421 2019-09-30      32820000          3291  애월환승정류장(애월리)  33.46483   \n",
       "415422 2019-09-30      32820000       6115100    서귀포시외버스터미널  33.24873   \n",
       "\n",
       "        longitude  6~7_ride  7~8_ride  8~9_ride  9~10_ride  ...  region_south  \\\n",
       "id                                                          ...                 \n",
       "0       126.49373  0.000000  0.693147  1.098612   1.791759  ...             0   \n",
       "1       126.48508  0.693147  1.609438  1.609438   1.098612  ...             0   \n",
       "2       126.47352  0.693147  0.693147  0.000000   1.098612  ...             0   \n",
       "3       126.49252  0.000000  2.890372  1.945910   3.295837  ...             0   \n",
       "4       126.41260  0.000000  0.000000  0.000000   0.000000  ...             1   \n",
       "...           ...       ...       ...       ...        ...  ...           ...   \n",
       "415418  126.26336  1.609438  0.000000  0.000000   0.000000  ...             0   \n",
       "415419  126.51479  1.609438  0.000000  0.000000   0.000000  ...             0   \n",
       "415420  126.26273  0.000000  0.000000  0.000000   0.000000  ...             0   \n",
       "415421  126.31870  0.693147  0.000000  0.000000   0.000000  ...             0   \n",
       "415422  126.50799  0.000000  0.000000  0.000000   0.000000  ...             1   \n",
       "\n",
       "        region_west  dayofwk_mon  dayofwk_sat  dayofwk_sun  dayofwk_thur  \\\n",
       "id                                                                         \n",
       "0                 0            0            0            0             0   \n",
       "1                 0            0            0            0             0   \n",
       "2                 0            0            0            0             0   \n",
       "3                 0            0            0            0             0   \n",
       "4                 0            0            0            0             0   \n",
       "...             ...          ...          ...          ...           ...   \n",
       "415418            1            0            0            0             1   \n",
       "415419            0            0            0            0             1   \n",
       "415420            1            0            0            0             1   \n",
       "415421            1            0            0            0             1   \n",
       "415422            0            0            0            0             1   \n",
       "\n",
       "        dayofwk_tue  dayofwk_wed  holiday_1 inout_out  \n",
       "id                                                     \n",
       "0                 0            1          0         1  \n",
       "1                 0            1          0         1  \n",
       "2                 0            1          0         1  \n",
       "3                 0            1          0         0  \n",
       "4                 0            1          0         0  \n",
       "...             ...          ...        ...       ...  \n",
       "415418            0            0          0         0  \n",
       "415419            0            0          0         0  \n",
       "415420            0            0          0         0  \n",
       "415421            0            0          0         0  \n",
       "415422            0            0          0         0  \n",
       "\n",
       "[415423 rows x 33 columns]"
      ]
     },
     "execution_count": 5,
     "metadata": {},
     "output_type": "execute_result"
    }
   ],
   "source": [
    "train"
   ]
  },
  {
   "cell_type": "markdown",
   "id": "15dea985",
   "metadata": {},
   "source": [
    "## Train -> Train, Valid"
   ]
  },
  {
   "cell_type": "code",
   "execution_count": 6,
   "id": "4a14bdae",
   "metadata": {},
   "outputs": [],
   "source": [
    "from sklearn.model_selection import train_test_split"
   ]
  },
  {
   "cell_type": "code",
   "execution_count": 8,
   "id": "a59d261e",
   "metadata": {},
   "outputs": [],
   "source": [
    "# 우리에게 주어진 test셋은 말만 test셋이고 18~20_ride 컬럼이 없기 때문에 train -> train, valid, test로 나눠야함\n",
    "# 파라미터튜닝할 때 train, valid, test로 나누고 오늘은 train, valid로만 나눔\n",
    "X = train.drop(columns=[\"18~20_ride\", \"date\", \"station_name\", \"station_code\"])  # date, station_name은 datetime, string이기에 빼줌\n",
    "y = train[\"18~20_ride\"]\n",
    "\n",
    "# train : valild = 6: 4\n",
    "train_X, valid_X, train_y, valid_y = train_test_split(X, y, test_size=0.4, shuffle=True, random_state=1)"
   ]
  },
  {
   "cell_type": "markdown",
   "id": "248c426d",
   "metadata": {},
   "source": [
    "## Feature Selection"
   ]
  },
  {
   "cell_type": "code",
   "execution_count": 9,
   "id": "a6461973",
   "metadata": {},
   "outputs": [],
   "source": [
    "from sklearn.linear_model import LinearRegression, Lasso, Ridge, LassoCV, BayesianRidge\n",
    "import statsmodels.formula.api as sm\n",
    "\n",
    "from dmba import regressionSummary, exhaustive_search\n",
    "from dmba import backward_elimination, forward_selection, stepwise_selection\n",
    "from dmba import adjusted_r2_score, AIC_score, BIC_score"
   ]
  },
  {
   "cell_type": "markdown",
   "id": "07e7c07a",
   "metadata": {},
   "source": [
    "### 후방 소거법 (backward elimination)"
   ]
  },
  {
   "cell_type": "code",
   "execution_count": 11,
   "id": "c0415b92",
   "metadata": {},
   "outputs": [
    {
     "name": "stdout",
     "output_type": "stream",
     "text": [
      "Variables: bus_route_id, latitude, longitude, 6~7_ride, 7~8_ride, 8~9_ride, 9~10_ride, 10~11_ride, 11~12_ride, 6~7_takeoff, 7~8_takeoff, 8~9_takeoff, 9~10_takeoff, 10~11_takeoff, 11~12_takeoff, weather, bus_route_class, region_north, region_other, region_south, region_west, dayofwk_mon, dayofwk_sat, dayofwk_sun, dayofwk_thur, dayofwk_tue, dayofwk_wed, holiday_1, inout_out\n",
      "Start: score=383296.66\n",
      "Step: score=383296.66, remove None\n",
      "['bus_route_id', 'latitude', 'longitude', '6~7_ride', '7~8_ride', '8~9_ride', '9~10_ride', '10~11_ride', '11~12_ride', '6~7_takeoff', '7~8_takeoff', '8~9_takeoff', '9~10_takeoff', '10~11_takeoff', '11~12_takeoff', 'weather', 'bus_route_class', 'region_north', 'region_other', 'region_south', 'region_west', 'dayofwk_mon', 'dayofwk_sat', 'dayofwk_sun', 'dayofwk_thur', 'dayofwk_tue', 'dayofwk_wed', 'holiday_1', 'inout_out']\n"
     ]
    }
   ],
   "source": [
    "# 회귀모델 학습\n",
    "def train_model(variables):\n",
    "    model = LinearRegression()\n",
    "    model.fit(train_X[variables], train_y)\n",
    "    return model\n",
    "\n",
    "# AIC score 반환, AIC 기준 변수 소거할지 말지 선택\n",
    "def score_model(model, variables):\n",
    "    return AIC_score(train_y, model.predict(train_X[variables]), model)\n",
    "\n",
    "best_model, best_variables = backward_elimination(train_X.columns, train_model, score_model, verbose=True)\n",
    "\n",
    "print(best_variables)"
   ]
  },
  {
   "cell_type": "code",
   "execution_count": 12,
   "id": "639d19f7",
   "metadata": {},
   "outputs": [
    {
     "name": "stdout",
     "output_type": "stream",
     "text": [
      "\n",
      "Regression statistics\n",
      "\n",
      "               Mean Error (ME) : -0.0001\n",
      "Root Mean Squared Error (RMSE) : 0.5191\n",
      "     Mean Absolute Error (MAE) : 0.3499\n"
     ]
    }
   ],
   "source": [
    "regressionSummary(valid_y, best_model.predict(valid_X[best_variables]))"
   ]
  },
  {
   "cell_type": "markdown",
   "id": "b4cbcc5f",
   "metadata": {},
   "source": [
    "### 전방 선택법 (forward selection)"
   ]
  },
  {
   "cell_type": "code",
   "execution_count": 13,
   "id": "fe6ded90",
   "metadata": {},
   "outputs": [
    {
     "name": "stdout",
     "output_type": "stream",
     "text": [
      "Variables: bus_route_id, latitude, longitude, 6~7_ride, 7~8_ride, 8~9_ride, 9~10_ride, 10~11_ride, 11~12_ride, 6~7_takeoff, 7~8_takeoff, 8~9_takeoff, 9~10_takeoff, 10~11_takeoff, 11~12_takeoff, weather, bus_route_class, region_north, region_other, region_south, region_west, dayofwk_mon, dayofwk_sat, dayofwk_sun, dayofwk_thur, dayofwk_tue, dayofwk_wed, holiday_1, inout_out\n",
      "Start: score=534788.27, constant\n",
      "Step: score=463223.98, add 11~12_ride\n",
      "Step: score=431300.27, add 10~11_ride\n",
      "Step: score=414718.17, add 9~10_ride\n",
      "Step: score=404684.16, add 8~9_ride\n",
      "Step: score=400560.38, add 8~9_takeoff\n",
      "Step: score=396032.79, add 7~8_ride\n",
      "Step: score=393114.19, add bus_route_class\n",
      "Step: score=390865.19, add region_north\n",
      "Step: score=389126.51, add 9~10_takeoff\n",
      "Step: score=387676.24, add 6~7_ride\n",
      "Step: score=386565.23, add bus_route_id\n",
      "Step: score=385610.02, add 11~12_takeoff\n",
      "Step: score=385008.36, add 10~11_takeoff\n",
      "Step: score=384530.81, add 7~8_takeoff\n",
      "Step: score=384218.87, add weather\n",
      "Step: score=383952.11, add 6~7_takeoff\n",
      "Step: score=383798.00, add latitude\n",
      "Step: score=383643.20, add dayofwk_mon\n",
      "Step: score=383589.96, add inout_out\n",
      "Step: score=383536.42, add dayofwk_sat\n",
      "Step: score=383475.81, add dayofwk_tue\n",
      "Step: score=383454.23, add dayofwk_wed\n",
      "Step: score=383432.90, add longitude\n",
      "Step: score=383415.88, add holiday_1\n",
      "Step: score=383322.73, add dayofwk_sun\n",
      "Step: score=383313.92, add region_west\n",
      "Step: score=383299.87, add region_other\n",
      "Step: score=383296.75, add dayofwk_thur\n",
      "Step: score=383296.66, add region_south\n",
      "Step: score=383296.66, add None\n",
      "['11~12_ride', '10~11_ride', '9~10_ride', '8~9_ride', '8~9_takeoff', '7~8_ride', 'bus_route_class', 'region_north', '9~10_takeoff', '6~7_ride', 'bus_route_id', '11~12_takeoff', '10~11_takeoff', '7~8_takeoff', 'weather', '6~7_takeoff', 'latitude', 'dayofwk_mon', 'inout_out', 'dayofwk_sat', 'dayofwk_tue', 'dayofwk_wed', 'longitude', 'holiday_1', 'dayofwk_sun', 'region_west', 'region_other', 'dayofwk_thur', 'region_south']\n"
     ]
    }
   ],
   "source": [
    "# 회귀모델 학습\n",
    "def train_model(variables):\n",
    "    if len(variables)==0:\n",
    "        return None\n",
    "    model = LinearRegression()\n",
    "    model.fit(train_X[variables], train_y)\n",
    "    return model\n",
    "\n",
    "# AIC score 기준으로 선택할지 말지 결정\n",
    "def score_model(model, variables):\n",
    "    if len(variables) == 0:\n",
    "        return AIC_score(train_y, [train_y.mean()] * len(train_y), model, df=1)\n",
    "    return AIC_score(train_y, model.predict(train_X[variables]), model)\n",
    "\n",
    "best_model ,best_variables = forward_selection(train_X.columns, train_model, score_model, verbose=True)\n",
    "\n",
    "print(best_variables)"
   ]
  },
  {
   "cell_type": "code",
   "execution_count": 14,
   "id": "bc2cfbd6",
   "metadata": {},
   "outputs": [
    {
     "name": "stdout",
     "output_type": "stream",
     "text": [
      "\n",
      "Regression statistics\n",
      "\n",
      "               Mean Error (ME) : -0.0001\n",
      "Root Mean Squared Error (RMSE) : 0.5191\n",
      "     Mean Absolute Error (MAE) : 0.3499\n"
     ]
    }
   ],
   "source": [
    "regressionSummary(valid_y, best_model.predict(valid_X[best_variables]))"
   ]
  },
  {
   "cell_type": "markdown",
   "id": "5a66b365",
   "metadata": {},
   "source": [
    "### 단계적 선택 방법 (stepwise regression)"
   ]
  },
  {
   "cell_type": "code",
   "execution_count": 15,
   "id": "64ee4fce",
   "metadata": {},
   "outputs": [
    {
     "name": "stdout",
     "output_type": "stream",
     "text": [
      "Variables: bus_route_id, latitude, longitude, 6~7_ride, 7~8_ride, 8~9_ride, 9~10_ride, 10~11_ride, 11~12_ride, 6~7_takeoff, 7~8_takeoff, 8~9_takeoff, 9~10_takeoff, 10~11_takeoff, 11~12_takeoff, weather, bus_route_class, region_north, region_other, region_south, region_west, dayofwk_mon, dayofwk_sat, dayofwk_sun, dayofwk_thur, dayofwk_tue, dayofwk_wed, holiday_1, inout_out\n",
      "Start: score=534788.27, constant\n",
      "Step: score=463223.98, add 11~12_ride\n",
      "Step: score=431300.27, add 10~11_ride\n",
      "Step: score=414718.17, add 9~10_ride\n",
      "Step: score=404684.16, add 8~9_ride\n",
      "Step: score=400560.38, add 8~9_takeoff\n",
      "Step: score=396032.79, add 7~8_ride\n",
      "Step: score=393114.19, add bus_route_class\n",
      "Step: score=390865.19, add region_north\n",
      "Step: score=389126.51, add 9~10_takeoff\n",
      "Step: score=387676.24, add 6~7_ride\n",
      "Step: score=386565.23, add bus_route_id\n",
      "Step: score=385610.02, add 11~12_takeoff\n",
      "Step: score=385008.36, add 10~11_takeoff\n",
      "Step: score=384530.81, add 7~8_takeoff\n",
      "Step: score=384218.87, add weather\n",
      "Step: score=383952.11, add 6~7_takeoff\n",
      "Step: score=383798.00, add latitude\n",
      "Step: score=383643.20, add dayofwk_mon\n",
      "Step: score=383589.96, add inout_out\n",
      "Step: score=383536.42, add dayofwk_sat\n",
      "Step: score=383475.81, add dayofwk_tue\n",
      "Step: score=383454.23, add dayofwk_wed\n",
      "Step: score=383432.90, add longitude\n",
      "Step: score=383415.88, add holiday_1\n",
      "Step: score=383322.73, add dayofwk_sun\n",
      "Step: score=383313.92, add region_west\n",
      "Step: score=383299.87, add region_other\n",
      "Step: score=383296.75, add dayofwk_thur\n",
      "Step: score=383296.66, add region_south\n",
      "Step: score=383296.66, unchanged None\n",
      "['11~12_ride', '10~11_ride', '9~10_ride', '8~9_ride', '8~9_takeoff', '7~8_ride', 'bus_route_class', 'region_north', '9~10_takeoff', '6~7_ride', 'bus_route_id', '11~12_takeoff', '10~11_takeoff', '7~8_takeoff', 'weather', '6~7_takeoff', 'latitude', 'dayofwk_mon', 'inout_out', 'dayofwk_sat', 'dayofwk_tue', 'dayofwk_wed', 'longitude', 'holiday_1', 'dayofwk_sun', 'region_west', 'region_other', 'dayofwk_thur', 'region_south']\n"
     ]
    }
   ],
   "source": [
    "best_model, best_variables = stepwise_selection(train_X.columns, train_model, score_model, verbose=1)\n",
    "\n",
    "print(best_variables)"
   ]
  },
  {
   "cell_type": "code",
   "execution_count": 16,
   "id": "1f9a793c",
   "metadata": {},
   "outputs": [
    {
     "name": "stdout",
     "output_type": "stream",
     "text": [
      "\n",
      "Regression statistics\n",
      "\n",
      "               Mean Error (ME) : -0.0000\n",
      "Root Mean Squared Error (RMSE) : 0.5220\n",
      "     Mean Absolute Error (MAE) : 0.3516\n"
     ]
    }
   ],
   "source": [
    "# 결과는 전진, 후방, 단계적 다 똑같은 것 같음\n",
    "regressionSummary(train_y, best_model.predict(train_X[best_variables]))"
   ]
  },
  {
   "cell_type": "code",
   "execution_count": 17,
   "id": "2acdeea7",
   "metadata": {},
   "outputs": [
    {
     "name": "stdout",
     "output_type": "stream",
     "text": [
      "\n",
      "Regression statistics\n",
      "\n",
      "               Mean Error (ME) : -0.0001\n",
      "Root Mean Squared Error (RMSE) : 0.5191\n",
      "     Mean Absolute Error (MAE) : 0.3499\n"
     ]
    }
   ],
   "source": [
    "regressionSummary(valid_y, best_model.predict(valid_X[best_variables]))"
   ]
  },
  {
   "cell_type": "markdown",
   "id": "397fb16b",
   "metadata": {},
   "source": [
    "## 변수 중요도  \n",
    "위에 전진, 후진, 단계적으로 했을 때 그냥 제거되는 것 없이 다 가지고 하게 되는 것 같아서 (rmse가 그럴 때 더 낮긴 하지만..) 변수 중요도 살펴봄   \n",
    "  \n",
    "references : https://zephyrus1111.tistory.com/272"
   ]
  },
  {
   "cell_type": "markdown",
   "id": "47010e80",
   "metadata": {},
   "source": [
    "1. correlation : 중요한 설명변수라면 해당 변수는 반응변수와의 상관관계가 큼  \n",
    "2. linear regression coefficient : 회귀계수의 절댓값이 클수록 해당 설명변수가 반응변수 예측값에 더 많은 영향력을 행사  \n",
    "3. permutation importance : 테스트 셋의 각 변수값들을 재배열한 후 예측력이 얼마나 변하는지 알려주는 변수 중요도, 특정 변수가 예측력에 영향을 미치지 않는다면 특정 변수의 값들을 재배열하더라도 예측력이 크게 달라지지 않을 것"
   ]
  },
  {
   "cell_type": "markdown",
   "id": "3650b594",
   "metadata": {},
   "source": [
    "### correlation"
   ]
  },
  {
   "cell_type": "code",
   "execution_count": 9,
   "id": "8663ba90",
   "metadata": {},
   "outputs": [],
   "source": [
    "corr = train.corr()"
   ]
  },
  {
   "cell_type": "code",
   "execution_count": 10,
   "id": "5c5d95a8",
   "metadata": {},
   "outputs": [
    {
     "data": {
      "text/html": [
       "<div>\n",
       "<style scoped>\n",
       "    .dataframe tbody tr th:only-of-type {\n",
       "        vertical-align: middle;\n",
       "    }\n",
       "\n",
       "    .dataframe tbody tr th {\n",
       "        vertical-align: top;\n",
       "    }\n",
       "\n",
       "    .dataframe thead th {\n",
       "        text-align: right;\n",
       "    }\n",
       "</style>\n",
       "<table border=\"1\" class=\"dataframe\">\n",
       "  <thead>\n",
       "    <tr style=\"text-align: right;\">\n",
       "      <th></th>\n",
       "      <th>18~20_ride</th>\n",
       "    </tr>\n",
       "  </thead>\n",
       "  <tbody>\n",
       "    <tr>\n",
       "      <th>11~12_ride</th>\n",
       "      <td>0.500859</td>\n",
       "    </tr>\n",
       "    <tr>\n",
       "      <th>10~11_ride</th>\n",
       "      <td>0.484033</td>\n",
       "    </tr>\n",
       "    <tr>\n",
       "      <th>9~10_ride</th>\n",
       "      <td>0.471199</td>\n",
       "    </tr>\n",
       "    <tr>\n",
       "      <th>8~9_ride</th>\n",
       "      <td>0.435800</td>\n",
       "    </tr>\n",
       "    <tr>\n",
       "      <th>7~8_ride</th>\n",
       "      <td>0.356636</td>\n",
       "    </tr>\n",
       "    <tr>\n",
       "      <th>11~12_takeoff</th>\n",
       "      <td>0.286999</td>\n",
       "    </tr>\n",
       "    <tr>\n",
       "      <th>9~10_takeoff</th>\n",
       "      <td>0.281505</td>\n",
       "    </tr>\n",
       "    <tr>\n",
       "      <th>10~11_takeoff</th>\n",
       "      <td>0.279519</td>\n",
       "    </tr>\n",
       "    <tr>\n",
       "      <th>8~9_takeoff</th>\n",
       "      <td>0.265671</td>\n",
       "    </tr>\n",
       "    <tr>\n",
       "      <th>6~7_ride</th>\n",
       "      <td>0.237550</td>\n",
       "    </tr>\n",
       "    <tr>\n",
       "      <th>7~8_takeoff</th>\n",
       "      <td>0.196023</td>\n",
       "    </tr>\n",
       "    <tr>\n",
       "      <th>region_north</th>\n",
       "      <td>0.168196</td>\n",
       "    </tr>\n",
       "    <tr>\n",
       "      <th>latitude</th>\n",
       "      <td>0.135115</td>\n",
       "    </tr>\n",
       "    <tr>\n",
       "      <th>6~7_takeoff</th>\n",
       "      <td>0.133528</td>\n",
       "    </tr>\n",
       "    <tr>\n",
       "      <th>inout_out</th>\n",
       "      <td>0.041344</td>\n",
       "    </tr>\n",
       "    <tr>\n",
       "      <th>station_code</th>\n",
       "      <td>0.029923</td>\n",
       "    </tr>\n",
       "    <tr>\n",
       "      <th>dayofwk_sat</th>\n",
       "      <td>0.021566</td>\n",
       "    </tr>\n",
       "    <tr>\n",
       "      <th>dayofwk_thur</th>\n",
       "      <td>0.009807</td>\n",
       "    </tr>\n",
       "    <tr>\n",
       "      <th>holiday_1</th>\n",
       "      <td>0.007116</td>\n",
       "    </tr>\n",
       "    <tr>\n",
       "      <th>dayofwk_sun</th>\n",
       "      <td>0.001208</td>\n",
       "    </tr>\n",
       "    <tr>\n",
       "      <th>dayofwk_tue</th>\n",
       "      <td>-0.010910</td>\n",
       "    </tr>\n",
       "    <tr>\n",
       "      <th>dayofwk_wed</th>\n",
       "      <td>-0.018360</td>\n",
       "    </tr>\n",
       "    <tr>\n",
       "      <th>dayofwk_mon</th>\n",
       "      <td>-0.021892</td>\n",
       "    </tr>\n",
       "    <tr>\n",
       "      <th>longitude</th>\n",
       "      <td>-0.038369</td>\n",
       "    </tr>\n",
       "    <tr>\n",
       "      <th>region_other</th>\n",
       "      <td>-0.043261</td>\n",
       "    </tr>\n",
       "    <tr>\n",
       "      <th>region_west</th>\n",
       "      <td>-0.068769</td>\n",
       "    </tr>\n",
       "    <tr>\n",
       "      <th>region_south</th>\n",
       "      <td>-0.083639</td>\n",
       "    </tr>\n",
       "    <tr>\n",
       "      <th>bus_route_id</th>\n",
       "      <td>-0.230007</td>\n",
       "    </tr>\n",
       "  </tbody>\n",
       "</table>\n",
       "</div>"
      ],
      "text/plain": [
       "               18~20_ride\n",
       "11~12_ride       0.500859\n",
       "10~11_ride       0.484033\n",
       "9~10_ride        0.471199\n",
       "8~9_ride         0.435800\n",
       "7~8_ride         0.356636\n",
       "11~12_takeoff    0.286999\n",
       "9~10_takeoff     0.281505\n",
       "10~11_takeoff    0.279519\n",
       "8~9_takeoff      0.265671\n",
       "6~7_ride         0.237550\n",
       "7~8_takeoff      0.196023\n",
       "region_north     0.168196\n",
       "latitude         0.135115\n",
       "6~7_takeoff      0.133528\n",
       "inout_out        0.041344\n",
       "station_code     0.029923\n",
       "dayofwk_sat      0.021566\n",
       "dayofwk_thur     0.009807\n",
       "holiday_1        0.007116\n",
       "dayofwk_sun      0.001208\n",
       "dayofwk_tue     -0.010910\n",
       "dayofwk_wed     -0.018360\n",
       "dayofwk_mon     -0.021892\n",
       "longitude       -0.038369\n",
       "region_other    -0.043261\n",
       "region_west     -0.068769\n",
       "region_south    -0.083639\n",
       "bus_route_id    -0.230007"
      ]
     },
     "execution_count": 10,
     "metadata": {},
     "output_type": "execute_result"
    }
   ],
   "source": [
    "y_corr = corr[[\"18~20_ride\"]].sort_values(by=\"18~20_ride\",ascending=False)[1:]\n",
    "y_corr"
   ]
  },
  {
   "cell_type": "code",
   "execution_count": 17,
   "id": "c0a70ba9",
   "metadata": {},
   "outputs": [
    {
     "data": {
      "text/plain": [
       "<BarContainer object of 28 artists>"
      ]
     },
     "execution_count": 17,
     "metadata": {},
     "output_type": "execute_result"
    },
    {
     "data": {
      "image/png": "[encoded data removed]",
      "text/plain": [
       "<Figure size 1080x576 with 1 Axes>"
      ]
     },
     "metadata": {
      "needs_background": "light"
     },
     "output_type": "display_data"
    }
   ],
   "source": [
    "plt.figure(figsize=(15,8))\n",
    "plt.barh(y_corr.index, y_corr[\"18~20_ride\"])"
   ]
  },
  {
   "cell_type": "markdown",
   "id": "24d975ed",
   "metadata": {},
   "source": [
    "상관계수 절댓값 0.1 이하 :   \n",
    "station_code, dayofwk_sat, dayofwk_thur, holiday_1, dayorwk_sun, dayofwk_tue, dayofwk_wed, dayofwk_mon, longitude, region_other, region_west, region_south  \n",
    "-> 상대적으로 중요하지 않다.  \n",
    "-> dayofwk 모든 변수, region north 빼고 다 + station_code, longitude"
   ]
  },
  {
   "cell_type": "markdown",
   "id": "a801e809",
   "metadata": {},
   "source": [
    "### linear regression coefficient"
   ]
  },
  {
   "cell_type": "code",
   "execution_count": 18,
   "id": "f103b92c",
   "metadata": {},
   "outputs": [],
   "source": [
    "lm = LinearRegression()\n",
    "lm.fit(train_X, train_y)\n",
    "\n",
    "lm_coef = pd.DataFrame({\"Predictor\" : train_X.columns, 'coefficient': lm.coef_})\n",
    "lm_coef = lm_coef.sort_values(by=\"coefficient\", ascending=False)"
   ]
  },
  {
   "cell_type": "code",
   "execution_count": 19,
   "id": "56c1412e",
   "metadata": {},
   "outputs": [
    {
     "data": {
      "text/html": [
       "<div>\n",
       "<style scoped>\n",
       "    .dataframe tbody tr th:only-of-type {\n",
       "        vertical-align: middle;\n",
       "    }\n",
       "\n",
       "    .dataframe tbody tr th {\n",
       "        vertical-align: top;\n",
       "    }\n",
       "\n",
       "    .dataframe thead th {\n",
       "        text-align: right;\n",
       "    }\n",
       "</style>\n",
       "<table border=\"1\" class=\"dataframe\">\n",
       "  <thead>\n",
       "    <tr style=\"text-align: right;\">\n",
       "      <th></th>\n",
       "      <th>coefficient</th>\n",
       "    </tr>\n",
       "    <tr>\n",
       "      <th>Predictor</th>\n",
       "      <th></th>\n",
       "    </tr>\n",
       "  </thead>\n",
       "  <tbody>\n",
       "    <tr>\n",
       "      <th>11~12_ride</th>\n",
       "      <td>2.678822e-01</td>\n",
       "    </tr>\n",
       "    <tr>\n",
       "      <th>10~11_ride</th>\n",
       "      <td>2.356397e-01</td>\n",
       "    </tr>\n",
       "    <tr>\n",
       "      <th>9~10_ride</th>\n",
       "      <td>1.902025e-01</td>\n",
       "    </tr>\n",
       "    <tr>\n",
       "      <th>8~9_ride</th>\n",
       "      <td>1.533986e-01</td>\n",
       "    </tr>\n",
       "    <tr>\n",
       "      <th>7~8_ride</th>\n",
       "      <td>1.120662e-01</td>\n",
       "    </tr>\n",
       "    <tr>\n",
       "      <th>6~7_ride</th>\n",
       "      <td>1.083274e-01</td>\n",
       "    </tr>\n",
       "    <tr>\n",
       "      <th>bus_route_class</th>\n",
       "      <td>9.583539e-02</td>\n",
       "    </tr>\n",
       "    <tr>\n",
       "      <th>region_north</th>\n",
       "      <td>9.162494e-02</td>\n",
       "    </tr>\n",
       "    <tr>\n",
       "      <th>8~9_takeoff</th>\n",
       "      <td>7.293620e-02</td>\n",
       "    </tr>\n",
       "    <tr>\n",
       "      <th>6~7_takeoff</th>\n",
       "      <td>7.225210e-02</td>\n",
       "    </tr>\n",
       "    <tr>\n",
       "      <th>9~10_takeoff</th>\n",
       "      <td>6.563187e-02</td>\n",
       "    </tr>\n",
       "    <tr>\n",
       "      <th>11~12_takeoff</th>\n",
       "      <td>6.354894e-02</td>\n",
       "    </tr>\n",
       "    <tr>\n",
       "      <th>10~11_takeoff</th>\n",
       "      <td>6.242538e-02</td>\n",
       "    </tr>\n",
       "    <tr>\n",
       "      <th>7~8_takeoff</th>\n",
       "      <td>5.713022e-02</td>\n",
       "    </tr>\n",
       "    <tr>\n",
       "      <th>inout_out</th>\n",
       "      <td>5.238421e-02</td>\n",
       "    </tr>\n",
       "    <tr>\n",
       "      <th>holiday_1</th>\n",
       "      <td>4.949103e-02</td>\n",
       "    </tr>\n",
       "    <tr>\n",
       "      <th>dayofwk_tue</th>\n",
       "      <td>2.301453e-02</td>\n",
       "    </tr>\n",
       "    <tr>\n",
       "      <th>dayofwk_wed</th>\n",
       "      <td>6.838538e-03</td>\n",
       "    </tr>\n",
       "    <tr>\n",
       "      <th>bus_route_id</th>\n",
       "      <td>-9.497613e-09</td>\n",
       "    </tr>\n",
       "    <tr>\n",
       "      <th>dayofwk_thur</th>\n",
       "      <td>-8.152833e-03</td>\n",
       "    </tr>\n",
       "    <tr>\n",
       "      <th>region_south</th>\n",
       "      <td>-1.018991e-02</td>\n",
       "    </tr>\n",
       "    <tr>\n",
       "      <th>dayofwk_sat</th>\n",
       "      <td>-2.332420e-02</td>\n",
       "    </tr>\n",
       "    <tr>\n",
       "      <th>region_west</th>\n",
       "      <td>-3.682129e-02</td>\n",
       "    </tr>\n",
       "    <tr>\n",
       "      <th>region_other</th>\n",
       "      <td>-4.039812e-02</td>\n",
       "    </tr>\n",
       "    <tr>\n",
       "      <th>dayofwk_mon</th>\n",
       "      <td>-4.188485e-02</td>\n",
       "    </tr>\n",
       "    <tr>\n",
       "      <th>weather</th>\n",
       "      <td>-6.028658e-02</td>\n",
       "    </tr>\n",
       "    <tr>\n",
       "      <th>dayofwk_sun</th>\n",
       "      <td>-6.046882e-02</td>\n",
       "    </tr>\n",
       "    <tr>\n",
       "      <th>longitude</th>\n",
       "      <td>-9.240897e-02</td>\n",
       "    </tr>\n",
       "    <tr>\n",
       "      <th>latitude</th>\n",
       "      <td>-1.353487e-01</td>\n",
       "    </tr>\n",
       "  </tbody>\n",
       "</table>\n",
       "</div>"
      ],
      "text/plain": [
       "                  coefficient\n",
       "Predictor                    \n",
       "11~12_ride       2.678822e-01\n",
       "10~11_ride       2.356397e-01\n",
       "9~10_ride        1.902025e-01\n",
       "8~9_ride         1.533986e-01\n",
       "7~8_ride         1.120662e-01\n",
       "6~7_ride         1.083274e-01\n",
       "bus_route_class  9.583539e-02\n",
       "region_north     9.162494e-02\n",
       "8~9_takeoff      7.293620e-02\n",
       "6~7_takeoff      7.225210e-02\n",
       "9~10_takeoff     6.563187e-02\n",
       "11~12_takeoff    6.354894e-02\n",
       "10~11_takeoff    6.242538e-02\n",
       "7~8_takeoff      5.713022e-02\n",
       "inout_out        5.238421e-02\n",
       "holiday_1        4.949103e-02\n",
       "dayofwk_tue      2.301453e-02\n",
       "dayofwk_wed      6.838538e-03\n",
       "bus_route_id    -9.497613e-09\n",
       "dayofwk_thur    -8.152833e-03\n",
       "region_south    -1.018991e-02\n",
       "dayofwk_sat     -2.332420e-02\n",
       "region_west     -3.682129e-02\n",
       "region_other    -4.039812e-02\n",
       "dayofwk_mon     -4.188485e-02\n",
       "weather         -6.028658e-02\n",
       "dayofwk_sun     -6.046882e-02\n",
       "longitude       -9.240897e-02\n",
       "latitude        -1.353487e-01"
      ]
     },
     "execution_count": 19,
     "metadata": {},
     "output_type": "execute_result"
    }
   ],
   "source": [
    "lm_coef.set_index(\"Predictor\")"
   ]
  },
  {
   "cell_type": "code",
   "execution_count": 20,
   "id": "ecbd3e64",
   "metadata": {},
   "outputs": [
    {
     "data": {
      "text/plain": [
       "<BarContainer object of 29 artists>"
      ]
     },
     "execution_count": 20,
     "metadata": {},
     "output_type": "execute_result"
    },
    {
     "data": {
      "image/png": "[encoded data removed]",
      "text/plain": [
       "<Figure size 1080x576 with 1 Axes>"
      ]
     },
     "metadata": {
      "needs_background": "light"
     },
     "output_type": "display_data"
    }
   ],
   "source": [
    "plt.figure(figsize=(15,8))\n",
    "plt.barh(lm_coef.Predictor, lm_coef[\"coefficient\"])"
   ]
  },
  {
   "cell_type": "markdown",
   "id": "bad1aceb",
   "metadata": {},
   "source": [
    "회귀계수 절댓값 0.05 이하 :  \n",
    "dayofwk_mon, region_other, region_west, dayofwk_sat, region_south, dayofwk_thur, bus_route_id, dayofwk_wed, dayofwk_tue   \n",
    "-> 상대적으로 중요하지 않음   \n",
    "dayofwk sun 빼고 다, region north 빼고 다 + bus_route_id"
   ]
  },
  {
   "cell_type": "markdown",
   "id": "1742747b",
   "metadata": {},
   "source": [
    "### permutation importance"
   ]
  },
  {
   "cell_type": "code",
   "execution_count": 9,
   "id": "771b2781",
   "metadata": {},
   "outputs": [],
   "source": [
    "import eli5 \n",
    "from eli5.sklearn import PermutationImportance"
   ]
  },
  {
   "cell_type": "code",
   "execution_count": 43,
   "id": "40148f4a",
   "metadata": {},
   "outputs": [
    {
     "data": {
      "text/html": [
       "<style>#sk-container-id-1 {color: black;background-color: white;}#sk-container-id-1 pre{padding: 0;}#sk-container-id-1 div.sk-toggleable {background-color: white;}#sk-container-id-1 label.sk-toggleable__label {cursor: pointer;display: block;width: 100%;margin-bottom: 0;padding: 0.3em;box-sizing: border-box;text-align: center;}#sk-container-id-1 label.sk-toggleable__label-arrow:before {content: \"▸\";float: left;margin-right: 0.25em;color: #696969;}#sk-container-id-1 label.sk-toggleable__label-arrow:hover:before {color: black;}#sk-container-id-1 div.sk-estimator:hover label.sk-toggleable__label-arrow:before {color: black;}#sk-container-id-1 div.sk-toggleable__content {max-height: 0;max-width: 0;overflow: hidden;text-align: left;background-color: #f0f8ff;}#sk-container-id-1 div.sk-toggleable__content pre {margin: 0.2em;color: black;border-radius: 0.25em;background-color: #f0f8ff;}#sk-container-id-1 input.sk-toggleable__control:checked~div.sk-toggleable__content {max-height: 200px;max-width: 100%;overflow: auto;}#sk-container-id-1 input.sk-toggleable__control:checked~label.sk-toggleable__label-arrow:before {content: \"▾\";}#sk-container-id-1 div.sk-estimator input.sk-toggleable__control:checked~label.sk-toggleable__label {background-color: #d4ebff;}#sk-container-id-1 div.sk-label input.sk-toggleable__control:checked~label.sk-toggleable__label {background-color: #d4ebff;}#sk-container-id-1 input.sk-hidden--visually {border: 0;clip: rect(1px 1px 1px 1px);clip: rect(1px, 1px, 1px, 1px);height: 1px;margin: -1px;overflow: hidden;padding: 0;position: absolute;width: 1px;}#sk-container-id-1 div.sk-estimator {font-family: monospace;background-color: #f0f8ff;border: 1px dotted black;border-radius: 0.25em;box-sizing: border-box;margin-bottom: 0.5em;}#sk-container-id-1 div.sk-estimator:hover {background-color: #d4ebff;}#sk-container-id-1 div.sk-parallel-item::after {content: \"\";width: 100%;border-bottom: 1px solid gray;flex-grow: 1;}#sk-container-id-1 div.sk-label:hover label.sk-toggleable__label {background-color: #d4ebff;}#sk-container-id-1 div.sk-serial::before {content: \"\";position: absolute;border-left: 1px solid gray;box-sizing: border-box;top: 0;bottom: 0;left: 50%;z-index: 0;}#sk-container-id-1 div.sk-serial {display: flex;flex-direction: column;align-items: center;background-color: white;padding-right: 0.2em;padding-left: 0.2em;position: relative;}#sk-container-id-1 div.sk-item {position: relative;z-index: 1;}#sk-container-id-1 div.sk-parallel {display: flex;align-items: stretch;justify-content: center;background-color: white;position: relative;}#sk-container-id-1 div.sk-item::before, #sk-container-id-1 div.sk-parallel-item::before {content: \"\";position: absolute;border-left: 1px solid gray;box-sizing: border-box;top: 0;bottom: 0;left: 50%;z-index: -1;}#sk-container-id-1 div.sk-parallel-item {display: flex;flex-direction: column;z-index: 1;position: relative;background-color: white;}#sk-container-id-1 div.sk-parallel-item:first-child::after {align-self: flex-end;width: 50%;}#sk-container-id-1 div.sk-parallel-item:last-child::after {align-self: flex-start;width: 50%;}#sk-container-id-1 div.sk-parallel-item:only-child::after {width: 0;}#sk-container-id-1 div.sk-dashed-wrapped {border: 1px dashed gray;margin: 0 0.4em 0.5em 0.4em;box-sizing: border-box;padding-bottom: 0.4em;background-color: white;}#sk-container-id-1 div.sk-label label {font-family: monospace;font-weight: bold;display: inline-block;line-height: 1.2em;}#sk-container-id-1 div.sk-label-container {text-align: center;}#sk-container-id-1 div.sk-container {/* jupyter's `normalize.less` sets `[hidden] { display: none; }` but bootstrap.min.css set `[hidden] { display: none !important; }` so we also need the `!important` here to be able to override the default hidden behavior on the sphinx rendered scikit-learn.org. See: https://github.com/scikit-learn/scikit-learn/issues/21755 */display: inline-block !important;position: relative;}#sk-container-id-1 div.sk-text-repr-fallback {display: none;}</style><div id=\"sk-container-id-1\" class=\"sk-top-container\"><div class=\"sk-text-repr-fallback\"><pre>LinearRegression()</pre><b>In a Jupyter environment, please rerun this cell to show the HTML representation or trust the notebook. <br />On GitHub, the HTML representation is unable to render, please try loading this page with nbviewer.org.</b></div><div class=\"sk-container\" hidden><div class=\"sk-item\"><div class=\"sk-estimator sk-toggleable\"><input class=\"sk-toggleable__control sk-hidden--visually\" id=\"sk-estimator-id-1\" type=\"checkbox\" checked><label for=\"sk-estimator-id-1\" class=\"sk-toggleable__label sk-toggleable__label-arrow\">LinearRegression</label><div class=\"sk-toggleable__content\"><pre>LinearRegression()</pre></div></div></div></div></div>"
      ],
      "text/plain": [
       "LinearRegression()"
      ]
     },
     "execution_count": 43,
     "metadata": {},
     "output_type": "execute_result"
    }
   ],
   "source": [
    "lr = LinearRegression()\n",
    "lr.fit(train_X, train_y)"
   ]
  },
  {
   "cell_type": "code",
   "execution_count": 47,
   "id": "9385c826",
   "metadata": {},
   "outputs": [
    {
     "data": {
      "text/html": [
       "\n",
       "    <style>\n",
       "    table.eli5-weights tr:hover {\n",
       "        filter: brightness(85%);\n",
       "    }\n",
       "</style>\n",
       "\n",
       "\n",
       "\n",
       "    \n",
       "\n",
       "    \n",
       "\n",
       "    \n",
       "\n",
       "    \n",
       "\n",
       "    \n",
       "\n",
       "    \n",
       "\n",
       "\n",
       "    \n",
       "\n",
       "    \n",
       "\n",
       "    \n",
       "\n",
       "    \n",
       "\n",
       "    \n",
       "\n",
       "    \n",
       "\n",
       "\n",
       "    \n",
       "\n",
       "    \n",
       "\n",
       "    \n",
       "\n",
       "    \n",
       "\n",
       "    \n",
       "        <table class=\"eli5-weights eli5-feature-importances\" style=\"border-collapse: collapse; border: none; margin-top: 0em; table-layout: auto;\">\n",
       "    <thead>\n",
       "    <tr style=\"border: none;\">\n",
       "        <th style=\"padding: 0 1em 0 0.5em; text-align: right; border: none;\">Weight</th>\n",
       "        <th style=\"padding: 0 0.5em 0 0.5em; text-align: left; border: none;\">Feature</th>\n",
       "    </tr>\n",
       "    </thead>\n",
       "    <tbody>\n",
       "    \n",
       "        <tr style=\"background-color: hsl(120, 100.00%, 80.00%); border: none;\">\n",
       "            <td style=\"padding: 0 1em 0 0.5em; text-align: right; border: none;\">\n",
       "                0.0365\n",
       "                \n",
       "                    &plusmn; 0.0007\n",
       "                \n",
       "            </td>\n",
       "            <td style=\"padding: 0 0.5em 0 0.5em; text-align: left; border: none;\">\n",
       "                11~12_ride\n",
       "            </td>\n",
       "        </tr>\n",
       "    \n",
       "        <tr style=\"background-color: hsl(120, 100.00%, 83.02%); border: none;\">\n",
       "            <td style=\"padding: 0 1em 0 0.5em; text-align: right; border: none;\">\n",
       "                0.0289\n",
       "                \n",
       "                    &plusmn; 0.0004\n",
       "                \n",
       "            </td>\n",
       "            <td style=\"padding: 0 0.5em 0 0.5em; text-align: left; border: none;\">\n",
       "                10~11_ride\n",
       "            </td>\n",
       "        </tr>\n",
       "    \n",
       "        <tr style=\"background-color: hsl(120, 100.00%, 86.96%); border: none;\">\n",
       "            <td style=\"padding: 0 1em 0 0.5em; text-align: right; border: none;\">\n",
       "                0.0198\n",
       "                \n",
       "                    &plusmn; 0.0003\n",
       "                \n",
       "            </td>\n",
       "            <td style=\"padding: 0 0.5em 0 0.5em; text-align: left; border: none;\">\n",
       "                9~10_ride\n",
       "            </td>\n",
       "        </tr>\n",
       "    \n",
       "        <tr style=\"background-color: hsl(120, 100.00%, 88.85%); border: none;\">\n",
       "            <td style=\"padding: 0 1em 0 0.5em; text-align: right; border: none;\">\n",
       "                0.0159\n",
       "                \n",
       "                    &plusmn; 0.0004\n",
       "                \n",
       "            </td>\n",
       "            <td style=\"padding: 0 0.5em 0 0.5em; text-align: left; border: none;\">\n",
       "                8~9_ride\n",
       "            </td>\n",
       "        </tr>\n",
       "    \n",
       "        <tr style=\"background-color: hsl(120, 100.00%, 92.58%); border: none;\">\n",
       "            <td style=\"padding: 0 1em 0 0.5em; text-align: right; border: none;\">\n",
       "                0.0089\n",
       "                \n",
       "                    &plusmn; 0.0002\n",
       "                \n",
       "            </td>\n",
       "            <td style=\"padding: 0 0.5em 0 0.5em; text-align: left; border: none;\">\n",
       "                7~8_ride\n",
       "            </td>\n",
       "        </tr>\n",
       "    \n",
       "        <tr style=\"background-color: hsl(120, 100.00%, 95.80%); border: none;\">\n",
       "            <td style=\"padding: 0 1em 0 0.5em; text-align: right; border: none;\">\n",
       "                0.0039\n",
       "                \n",
       "                    &plusmn; 0.0002\n",
       "                \n",
       "            </td>\n",
       "            <td style=\"padding: 0 0.5em 0 0.5em; text-align: left; border: none;\">\n",
       "                region_north\n",
       "            </td>\n",
       "        </tr>\n",
       "    \n",
       "        <tr style=\"background-color: hsl(120, 100.00%, 95.99%); border: none;\">\n",
       "            <td style=\"padding: 0 1em 0 0.5em; text-align: right; border: none;\">\n",
       "                0.0037\n",
       "                \n",
       "                    &plusmn; 0.0002\n",
       "                \n",
       "            </td>\n",
       "            <td style=\"padding: 0 0.5em 0 0.5em; text-align: left; border: none;\">\n",
       "                bus_route_class\n",
       "            </td>\n",
       "        </tr>\n",
       "    \n",
       "        <tr style=\"background-color: hsl(120, 100.00%, 96.22%); border: none;\">\n",
       "            <td style=\"padding: 0 1em 0 0.5em; text-align: right; border: none;\">\n",
       "                0.0034\n",
       "                \n",
       "                    &plusmn; 0.0002\n",
       "                \n",
       "            </td>\n",
       "            <td style=\"padding: 0 0.5em 0 0.5em; text-align: left; border: none;\">\n",
       "                6~7_ride\n",
       "            </td>\n",
       "        </tr>\n",
       "    \n",
       "        <tr style=\"background-color: hsl(120, 100.00%, 96.79%); border: none;\">\n",
       "            <td style=\"padding: 0 1em 0 0.5em; text-align: right; border: none;\">\n",
       "                0.0027\n",
       "                \n",
       "                    &plusmn; 0.0002\n",
       "                \n",
       "            </td>\n",
       "            <td style=\"padding: 0 0.5em 0 0.5em; text-align: left; border: none;\">\n",
       "                8~9_takeoff\n",
       "            </td>\n",
       "        </tr>\n",
       "    \n",
       "        <tr style=\"background-color: hsl(120, 100.00%, 96.81%); border: none;\">\n",
       "            <td style=\"padding: 0 1em 0 0.5em; text-align: right; border: none;\">\n",
       "                0.0027\n",
       "                \n",
       "                    &plusmn; 0.0002\n",
       "                \n",
       "            </td>\n",
       "            <td style=\"padding: 0 0.5em 0 0.5em; text-align: left; border: none;\">\n",
       "                bus_route_id\n",
       "            </td>\n",
       "        </tr>\n",
       "    \n",
       "        <tr style=\"background-color: hsl(120, 100.00%, 97.68%); border: none;\">\n",
       "            <td style=\"padding: 0 1em 0 0.5em; text-align: right; border: none;\">\n",
       "                0.0017\n",
       "                \n",
       "                    &plusmn; 0.0001\n",
       "                \n",
       "            </td>\n",
       "            <td style=\"padding: 0 0.5em 0 0.5em; text-align: left; border: none;\">\n",
       "                9~10_takeoff\n",
       "            </td>\n",
       "        </tr>\n",
       "    \n",
       "        <tr style=\"background-color: hsl(120, 100.00%, 97.78%); border: none;\">\n",
       "            <td style=\"padding: 0 1em 0 0.5em; text-align: right; border: none;\">\n",
       "                0.0016\n",
       "                \n",
       "                    &plusmn; 0.0001\n",
       "                \n",
       "            </td>\n",
       "            <td style=\"padding: 0 0.5em 0 0.5em; text-align: left; border: none;\">\n",
       "                10~11_takeoff\n",
       "            </td>\n",
       "        </tr>\n",
       "    \n",
       "        <tr style=\"background-color: hsl(120, 100.00%, 97.86%); border: none;\">\n",
       "            <td style=\"padding: 0 1em 0 0.5em; text-align: right; border: none;\">\n",
       "                0.0015\n",
       "                \n",
       "                    &plusmn; 0.0001\n",
       "                \n",
       "            </td>\n",
       "            <td style=\"padding: 0 0.5em 0 0.5em; text-align: left; border: none;\">\n",
       "                weather\n",
       "            </td>\n",
       "        </tr>\n",
       "    \n",
       "        <tr style=\"background-color: hsl(120, 100.00%, 97.88%); border: none;\">\n",
       "            <td style=\"padding: 0 1em 0 0.5em; text-align: right; border: none;\">\n",
       "                0.0015\n",
       "                \n",
       "                    &plusmn; 0.0001\n",
       "                \n",
       "            </td>\n",
       "            <td style=\"padding: 0 0.5em 0 0.5em; text-align: left; border: none;\">\n",
       "                11~12_takeoff\n",
       "            </td>\n",
       "        </tr>\n",
       "    \n",
       "        <tr style=\"background-color: hsl(120, 100.00%, 98.21%); border: none;\">\n",
       "            <td style=\"padding: 0 1em 0 0.5em; text-align: right; border: none;\">\n",
       "                0.0012\n",
       "                \n",
       "                    &plusmn; 0.0001\n",
       "                \n",
       "            </td>\n",
       "            <td style=\"padding: 0 0.5em 0 0.5em; text-align: left; border: none;\">\n",
       "                holiday_1\n",
       "            </td>\n",
       "        </tr>\n",
       "    \n",
       "        <tr style=\"background-color: hsl(120, 100.00%, 98.40%); border: none;\">\n",
       "            <td style=\"padding: 0 1em 0 0.5em; text-align: right; border: none;\">\n",
       "                0.0010\n",
       "                \n",
       "                    &plusmn; 0.0000\n",
       "                \n",
       "            </td>\n",
       "            <td style=\"padding: 0 0.5em 0 0.5em; text-align: left; border: none;\">\n",
       "                7~8_takeoff\n",
       "            </td>\n",
       "        </tr>\n",
       "    \n",
       "        <tr style=\"background-color: hsl(120, 100.00%, 98.57%); border: none;\">\n",
       "            <td style=\"padding: 0 1em 0 0.5em; text-align: right; border: none;\">\n",
       "                0.0008\n",
       "                \n",
       "                    &plusmn; 0.0001\n",
       "                \n",
       "            </td>\n",
       "            <td style=\"padding: 0 0.5em 0 0.5em; text-align: left; border: none;\">\n",
       "                dayofwk_sun\n",
       "            </td>\n",
       "        </tr>\n",
       "    \n",
       "        <tr style=\"background-color: hsl(120, 100.00%, 98.82%); border: none;\">\n",
       "            <td style=\"padding: 0 1em 0 0.5em; text-align: right; border: none;\">\n",
       "                0.0006\n",
       "                \n",
       "                    &plusmn; 0.0001\n",
       "                \n",
       "            </td>\n",
       "            <td style=\"padding: 0 0.5em 0 0.5em; text-align: left; border: none;\">\n",
       "                6~7_takeoff\n",
       "            </td>\n",
       "        </tr>\n",
       "    \n",
       "        <tr style=\"background-color: hsl(120, 100.00%, 99.09%); border: none;\">\n",
       "            <td style=\"padding: 0 1em 0 0.5em; text-align: right; border: none;\">\n",
       "                0.0004\n",
       "                \n",
       "                    &plusmn; 0.0001\n",
       "                \n",
       "            </td>\n",
       "            <td style=\"padding: 0 0.5em 0 0.5em; text-align: left; border: none;\">\n",
       "                latitude\n",
       "            </td>\n",
       "        </tr>\n",
       "    \n",
       "        <tr style=\"background-color: hsl(120, 100.00%, 99.18%); border: none;\">\n",
       "            <td style=\"padding: 0 1em 0 0.5em; text-align: right; border: none;\">\n",
       "                0.0004\n",
       "                \n",
       "                    &plusmn; 0.0001\n",
       "                \n",
       "            </td>\n",
       "            <td style=\"padding: 0 0.5em 0 0.5em; text-align: left; border: none;\">\n",
       "                dayofwk_mon\n",
       "            </td>\n",
       "        </tr>\n",
       "    \n",
       "        <tr style=\"background-color: hsl(120, 100.00%, 99.19%); border: none;\">\n",
       "            <td style=\"padding: 0 1em 0 0.5em; text-align: right; border: none;\">\n",
       "                0.0004\n",
       "                \n",
       "                    &plusmn; 0.0001\n",
       "                \n",
       "            </td>\n",
       "            <td style=\"padding: 0 0.5em 0 0.5em; text-align: left; border: none;\">\n",
       "                longitude\n",
       "            </td>\n",
       "        </tr>\n",
       "    \n",
       "        <tr style=\"background-color: hsl(120, 100.00%, 99.49%); border: none;\">\n",
       "            <td style=\"padding: 0 1em 0 0.5em; text-align: right; border: none;\">\n",
       "                0.0002\n",
       "                \n",
       "                    &plusmn; 0.0001\n",
       "                \n",
       "            </td>\n",
       "            <td style=\"padding: 0 0.5em 0 0.5em; text-align: left; border: none;\">\n",
       "                region_west\n",
       "            </td>\n",
       "        </tr>\n",
       "    \n",
       "        <tr style=\"background-color: hsl(120, 100.00%, 99.63%); border: none;\">\n",
       "            <td style=\"padding: 0 1em 0 0.5em; text-align: right; border: none;\">\n",
       "                0.0001\n",
       "                \n",
       "                    &plusmn; 0.0000\n",
       "                \n",
       "            </td>\n",
       "            <td style=\"padding: 0 0.5em 0 0.5em; text-align: left; border: none;\">\n",
       "                dayofwk_sat\n",
       "            </td>\n",
       "        </tr>\n",
       "    \n",
       "        <tr style=\"background-color: hsl(120, 100.00%, 99.65%); border: none;\">\n",
       "            <td style=\"padding: 0 1em 0 0.5em; text-align: right; border: none;\">\n",
       "                0.0001\n",
       "                \n",
       "                    &plusmn; 0.0000\n",
       "                \n",
       "            </td>\n",
       "            <td style=\"padding: 0 0.5em 0 0.5em; text-align: left; border: none;\">\n",
       "                inout_out\n",
       "            </td>\n",
       "        </tr>\n",
       "    \n",
       "        <tr style=\"background-color: hsl(120, 100.00%, 99.72%); border: none;\">\n",
       "            <td style=\"padding: 0 1em 0 0.5em; text-align: right; border: none;\">\n",
       "                0.0001\n",
       "                \n",
       "                    &plusmn; 0.0000\n",
       "                \n",
       "            </td>\n",
       "            <td style=\"padding: 0 0.5em 0 0.5em; text-align: left; border: none;\">\n",
       "                dayofwk_tue\n",
       "            </td>\n",
       "        </tr>\n",
       "    \n",
       "        <tr style=\"background-color: hsl(120, 100.00%, 99.77%); border: none;\">\n",
       "            <td style=\"padding: 0 1em 0 0.5em; text-align: right; border: none;\">\n",
       "                0.0001\n",
       "                \n",
       "                    &plusmn; 0.0000\n",
       "                \n",
       "            </td>\n",
       "            <td style=\"padding: 0 0.5em 0 0.5em; text-align: left; border: none;\">\n",
       "                region_other\n",
       "            </td>\n",
       "        </tr>\n",
       "    \n",
       "        <tr style=\"background-color: hsl(120, 100.00%, 99.83%); border: none;\">\n",
       "            <td style=\"padding: 0 1em 0 0.5em; text-align: right; border: none;\">\n",
       "                0.0000\n",
       "                \n",
       "                    &plusmn; 0.0000\n",
       "                \n",
       "            </td>\n",
       "            <td style=\"padding: 0 0.5em 0 0.5em; text-align: left; border: none;\">\n",
       "                region_south\n",
       "            </td>\n",
       "        </tr>\n",
       "    \n",
       "        <tr style=\"background-color: hsl(120, 100.00%, 99.91%); border: none;\">\n",
       "            <td style=\"padding: 0 1em 0 0.5em; text-align: right; border: none;\">\n",
       "                0.0000\n",
       "                \n",
       "                    &plusmn; 0.0000\n",
       "                \n",
       "            </td>\n",
       "            <td style=\"padding: 0 0.5em 0 0.5em; text-align: left; border: none;\">\n",
       "                dayofwk_thur\n",
       "            </td>\n",
       "        </tr>\n",
       "    \n",
       "        <tr style=\"background-color: hsl(120, 100.00%, 99.92%); border: none;\">\n",
       "            <td style=\"padding: 0 1em 0 0.5em; text-align: right; border: none;\">\n",
       "                0.0000\n",
       "                \n",
       "                    &plusmn; 0.0000\n",
       "                \n",
       "            </td>\n",
       "            <td style=\"padding: 0 0.5em 0 0.5em; text-align: left; border: none;\">\n",
       "                dayofwk_wed\n",
       "            </td>\n",
       "        </tr>\n",
       "    \n",
       "    \n",
       "    </tbody>\n",
       "</table>\n",
       "    \n",
       "\n",
       "    \n",
       "\n",
       "\n",
       "    \n",
       "\n",
       "    \n",
       "\n",
       "    \n",
       "\n",
       "    \n",
       "\n",
       "    \n",
       "\n",
       "    \n",
       "\n",
       "\n",
       "\n"
      ],
      "text/plain": [
       "<IPython.core.display.HTML object>"
      ]
     },
     "execution_count": 47,
     "metadata": {},
     "output_type": "execute_result"
    }
   ],
   "source": [
    "permu_lr = PermutationImportance(lr, scoring=\"neg_root_mean_squared_error\", random_state=1).fit(valid_X, valid_y)\n",
    "eli5.show_weights(permu_lr, top=29, feature_names=valid_X.columns.tolist())"
   ]
  },
  {
   "cell_type": "markdown",
   "id": "47b652ec",
   "metadata": {},
   "source": [
    "값이 클수록 중요한 변수  \n",
    "-> latitude, dayofwk_mon, longitude, region_west, dayofwk_sat, inout_out, dayofwk_tue, region_other, region_south, dayofwk_thur, dayofwk_wed 상대적으로 중요하지 않음 \n",
    "-> dayofwk sun 빼고 다, region north 빼고 다, + latitude, longitude, inout_out"
   ]
  },
  {
   "cell_type": "markdown",
   "id": "de4e9a32",
   "metadata": {},
   "source": [
    "**최종선택**  \n",
    "-> region_west만 남기기 + dayofwk_sun만 남기기  \n",
    "-> latitude, longitude 빼볼까 ?   \n",
    "-> station_code, bus_route_id도 굳이인가 ?   "
   ]
  },
  {
   "cell_type": "markdown",
   "id": "07e67b12",
   "metadata": {},
   "source": [
    "## Model Fitting"
   ]
  },
  {
   "cell_type": "markdown",
   "id": "441f6a24",
   "metadata": {},
   "source": [
    "### <변수 중요도 고려한 것>"
   ]
  },
  {
   "cell_type": "code",
   "execution_count": 21,
   "id": "963d4c22",
   "metadata": {},
   "outputs": [
    {
     "data": {
      "text/plain": [
       "Index(['date', 'bus_route_id', 'station_code', 'station_name', 'latitude',\n",
       "       'longitude', '6~7_ride', '7~8_ride', '8~9_ride', '9~10_ride',\n",
       "       '10~11_ride', '11~12_ride', '6~7_takeoff', '7~8_takeoff', '8~9_takeoff',\n",
       "       '9~10_takeoff', '10~11_takeoff', '11~12_takeoff', '18~20_ride',\n",
       "       'weather', 'bus_route_class', 'region_north', 'region_other',\n",
       "       'region_south', 'region_west', 'dayofwk_mon', 'dayofwk_sat',\n",
       "       'dayofwk_sun', 'dayofwk_thur', 'dayofwk_tue', 'dayofwk_wed',\n",
       "       'holiday_1', 'inout_out'],\n",
       "      dtype='object')"
      ]
     },
     "execution_count": 21,
     "metadata": {},
     "output_type": "execute_result"
    }
   ],
   "source": [
    "train.columns"
   ]
  },
  {
   "cell_type": "code",
   "execution_count": 10,
   "id": "0cbca4c4",
   "metadata": {},
   "outputs": [],
   "source": [
    "# 변수 중요도로 선택한 최종 모델\n",
    "# fs1 : region_west, dayofwk_sun만 남긴 것\n",
    "# fs2 : region_west, dayofwk_sun만 남기고 latitude, longitude 뺀 것\n",
    "# fs3 : region_west, dayofwk_sun만 남기고 station_code, bus_route_id 뺀 것\n",
    "# fs4 : region_west, dayofwk_sum만 남기고 latitude, longitude, station_code, bus_route_id 뺀 것\n",
    "fs1 = ['bus_route_id', 'station_code', 'latitude', 'longitude', '6~7_ride', '7~8_ride', '8~9_ride', '9~10_ride',\n",
    "       '10~11_ride', '11~12_ride', '6~7_takeoff', '7~8_takeoff', '8~9_takeoff', '9~10_takeoff', '10~11_takeoff', '11~12_takeoff', '18~20_ride',\n",
    "       'weather', 'bus_route_class', 'region_north', 'dayofwk_sun', 'holiday_1', 'inout_out'] \n",
    "fs2 = ['bus_route_id', 'station_code', '6~7_ride', '7~8_ride', '8~9_ride', '9~10_ride',\n",
    "       '10~11_ride', '11~12_ride', '6~7_takeoff', '7~8_takeoff', '8~9_takeoff', '9~10_takeoff', '10~11_takeoff', '11~12_takeoff', '18~20_ride',\n",
    "       'weather', 'bus_route_class', 'region_north', 'dayofwk_sun', 'holiday_1', 'inout_out'] \n",
    "fs3 = ['latitude', 'longitude', '6~7_ride', '7~8_ride', '8~9_ride', '9~10_ride',\n",
    "       '10~11_ride', '11~12_ride', '6~7_takeoff', '7~8_takeoff', '8~9_takeoff', '9~10_takeoff', '10~11_takeoff', '11~12_takeoff', '18~20_ride',\n",
    "       'weather', 'bus_route_class', 'region_north', 'dayofwk_sun', 'holiday_1', 'inout_out'] \n",
    "fs4 = ['6~7_ride', '7~8_ride', '8~9_ride', '9~10_ride', '10~11_ride', '11~12_ride', '6~7_takeoff', '7~8_takeoff', '8~9_takeoff', \n",
    "       '9~10_takeoff', '10~11_takeoff', '11~12_takeoff', '18~20_ride', 'weather', 'bus_route_class', 'region_north', 'dayofwk_sun', 'holiday_1', 'inout_out'] "
   ]
  },
  {
   "cell_type": "code",
   "execution_count": 11,
   "id": "1b21468a",
   "metadata": {},
   "outputs": [],
   "source": [
    "train1 = train[fs1]\n",
    "train2 = train[fs2]\n",
    "train3 = train[fs3]\n",
    "train4 = train[fs4]"
   ]
  },
  {
   "cell_type": "code",
   "execution_count": 12,
   "id": "7d8ff35c",
   "metadata": {},
   "outputs": [],
   "source": [
    "# train1\n",
    "X1 = train1.drop(columns=[\"18~20_ride\"])\n",
    "y1 = train1[\"18~20_ride\"]\n",
    "\n",
    "train_X1, valid_X1, train_y1, valid_y1 = train_test_split(X1, y1, test_size=0.4, shuffle=True, random_state=1)\n",
    "\n",
    "# train2\n",
    "X2 = train2.drop(columns=[\"18~20_ride\"])\n",
    "y2 = train2[\"18~20_ride\"]\n",
    "\n",
    "train_X2, valid_X2, train_y2, valid_y2 = train_test_split(X2, y2, test_size=0.4, shuffle=True, random_state=1)\n",
    "\n",
    "# train3\n",
    "X3 = train3.drop(columns=[\"18~20_ride\"])\n",
    "y3 = train3[\"18~20_ride\"]\n",
    "\n",
    "train_X3, valid_X3, train_y3, valid_y3 = train_test_split(X3, y3, test_size=0.4, shuffle=True, random_state=1)\n",
    "\n",
    "# train4\n",
    "X4 = train4.drop(columns=[\"18~20_ride\"])\n",
    "y4 = train4[\"18~20_ride\"]\n",
    "\n",
    "train_X4, valid_X4, train_y4, valid_y4 = train_test_split(X4, y4, test_size=0.4, shuffle=True, random_state=1)"
   ]
  },
  {
   "cell_type": "markdown",
   "id": "f805e9e1",
   "metadata": {},
   "source": [
    "### 다중선형회귀"
   ]
  },
  {
   "cell_type": "code",
   "execution_count": 13,
   "id": "4787b566",
   "metadata": {},
   "outputs": [
    {
     "name": "stdout",
     "output_type": "stream",
     "text": [
      "\n",
      "Regression statistics\n",
      "\n",
      "               Mean Error (ME) : -0.0001\n",
      "Root Mean Squared Error (RMSE) : 0.5193\n",
      "     Mean Absolute Error (MAE) : 0.3499\n"
     ]
    }
   ],
   "source": [
    "# train1\n",
    "linearRegression = LinearRegression().fit(train_X1, train_y1)\n",
    "regressionSummary(valid_y1, linearRegression.predict(valid_X1))"
   ]
  },
  {
   "cell_type": "code",
   "execution_count": 26,
   "id": "8e958da1",
   "metadata": {},
   "outputs": [
    {
     "name": "stdout",
     "output_type": "stream",
     "text": [
      "\n",
      "Regression statistics\n",
      "\n",
      "               Mean Error (ME) : -0.0001\n",
      "Root Mean Squared Error (RMSE) : 0.5195\n",
      "     Mean Absolute Error (MAE) : 0.3499\n"
     ]
    }
   ],
   "source": [
    "# train2 \n",
    "linearRegression = LinearRegression().fit(train_X2, train_y2)\n",
    "regressionSummary(valid_y2, linearRegression.predict(valid_X2))"
   ]
  },
  {
   "cell_type": "code",
   "execution_count": 27,
   "id": "83ad3f86",
   "metadata": {},
   "outputs": [
    {
     "name": "stdout",
     "output_type": "stream",
     "text": [
      "\n",
      "Regression statistics\n",
      "\n",
      "               Mean Error (ME) : -0.0002\n",
      "Root Mean Squared Error (RMSE) : 0.5204\n",
      "     Mean Absolute Error (MAE) : 0.3509\n"
     ]
    }
   ],
   "source": [
    "# train3\n",
    "linearRegression = LinearRegression().fit(train_X3, train_y3)\n",
    "regressionSummary(valid_y3, linearRegression.predict(valid_X3))"
   ]
  },
  {
   "cell_type": "code",
   "execution_count": 28,
   "id": "9f0f8e87",
   "metadata": {},
   "outputs": [
    {
     "name": "stdout",
     "output_type": "stream",
     "text": [
      "\n",
      "Regression statistics\n",
      "\n",
      "               Mean Error (ME) : -0.0002\n",
      "Root Mean Squared Error (RMSE) : 0.5206\n",
      "     Mean Absolute Error (MAE) : 0.3507\n"
     ]
    }
   ],
   "source": [
    "# train4\n",
    "linearRegression = LinearRegression().fit(train_X4, train_y4)\n",
    "regressionSummary(valid_y4, linearRegression.predict(valid_X4))"
   ]
  },
  {
   "cell_type": "markdown",
   "id": "6e8033fa",
   "metadata": {},
   "source": [
    "### Ridge  \n",
    "bayesianRidge로 돌림"
   ]
  },
  {
   "cell_type": "code",
   "execution_count": 30,
   "id": "c3b3d024",
   "metadata": {},
   "outputs": [],
   "source": [
    "warnings.filterwarnings('ignore')"
   ]
  },
  {
   "cell_type": "code",
   "execution_count": 33,
   "id": "e537143f",
   "metadata": {},
   "outputs": [
    {
     "name": "stdout",
     "output_type": "stream",
     "text": [
      "\n",
      "Regression statistics\n",
      "\n",
      "               Mean Error (ME) : -0.0001\n",
      "Root Mean Squared Error (RMSE) : 0.5193\n",
      "     Mean Absolute Error (MAE) : 0.3499\n"
     ]
    }
   ],
   "source": [
    "# train1\n",
    "bayesianRidge = BayesianRidge(normalize=True)\n",
    "bayesianRidge.fit(train_X1, train_y1)\n",
    "regressionSummary(valid_y1, bayesianRidge.predict(valid_X1))"
   ]
  },
  {
   "cell_type": "code",
   "execution_count": 34,
   "id": "30e66cb7",
   "metadata": {},
   "outputs": [
    {
     "name": "stdout",
     "output_type": "stream",
     "text": [
      "\n",
      "Regression statistics\n",
      "\n",
      "               Mean Error (ME) : -0.0001\n",
      "Root Mean Squared Error (RMSE) : 0.5195\n",
      "     Mean Absolute Error (MAE) : 0.3499\n"
     ]
    }
   ],
   "source": [
    "# train2\n",
    "bayesianRidge = BayesianRidge(normalize=True)\n",
    "bayesianRidge.fit(train_X2, train_y2)\n",
    "regressionSummary(valid_y2, bayesianRidge.predict(valid_X2))"
   ]
  },
  {
   "cell_type": "code",
   "execution_count": 35,
   "id": "45d3abcf",
   "metadata": {},
   "outputs": [
    {
     "name": "stdout",
     "output_type": "stream",
     "text": [
      "\n",
      "Regression statistics\n",
      "\n",
      "               Mean Error (ME) : -0.0002\n",
      "Root Mean Squared Error (RMSE) : 0.5204\n",
      "     Mean Absolute Error (MAE) : 0.3509\n"
     ]
    }
   ],
   "source": [
    "# train3\n",
    "bayesianRidge = BayesianRidge(normalize=True)\n",
    "bayesianRidge.fit(train_X3, train_y3)\n",
    "regressionSummary(valid_y3, bayesianRidge.predict(valid_X3))"
   ]
  },
  {
   "cell_type": "code",
   "execution_count": 36,
   "id": "4b8ddf48",
   "metadata": {},
   "outputs": [
    {
     "name": "stdout",
     "output_type": "stream",
     "text": [
      "\n",
      "Regression statistics\n",
      "\n",
      "               Mean Error (ME) : -0.0002\n",
      "Root Mean Squared Error (RMSE) : 0.5206\n",
      "     Mean Absolute Error (MAE) : 0.3507\n"
     ]
    }
   ],
   "source": [
    "# train4\n",
    "bayesianRidge = BayesianRidge(normalize=True)\n",
    "bayesianRidge.fit(train_X4, train_y4)\n",
    "regressionSummary(valid_y4, bayesianRidge.predict(valid_X4))"
   ]
  },
  {
   "cell_type": "markdown",
   "id": "2fa425ac",
   "metadata": {},
   "source": [
    "사실 큰 차이는 아니지만 전체변수 다 돌릴때가 제일 rmse 낮긴 함.  \n",
    "그정도 차이(0.0002, 0.0004)면 train1이나 train2로 돌려도 될 것 같긴 하다. 사실 train3, train4도 차이는 없는데 0.51 -> 0.52 돼서"
   ]
  },
  {
   "cell_type": "markdown",
   "id": "4d82fdf3",
   "metadata": {},
   "source": [
    "### <변수중요도 고려하지 않은 것 -> 변수선택기법 결과 모든 변수로 다 돌림>"
   ]
  },
  {
   "cell_type": "markdown",
   "id": "f73ad5df",
   "metadata": {},
   "source": [
    "### 다중선형회귀"
   ]
  },
  {
   "cell_type": "code",
   "execution_count": 17,
   "id": "ac458f6f",
   "metadata": {},
   "outputs": [
    {
     "name": "stdout",
     "output_type": "stream",
     "text": [
      "\n",
      "Regression statistics\n",
      "\n",
      "               Mean Error (ME) : -0.0001\n",
      "Root Mean Squared Error (RMSE) : 0.5191\n",
      "     Mean Absolute Error (MAE) : 0.3499\n"
     ]
    }
   ],
   "source": [
    "linearRegression = LinearRegression().fit(train_X, train_y)\n",
    "regressionSummary(valid_y, linearRegression.predict(valid_X))"
   ]
  },
  {
   "cell_type": "markdown",
   "id": "459b1998",
   "metadata": {},
   "source": [
    "### Ridge"
   ]
  },
  {
   "cell_type": "code",
   "execution_count": 14,
   "id": "e7827d33",
   "metadata": {},
   "outputs": [
    {
     "name": "stdout",
     "output_type": "stream",
     "text": [
      "\n",
      "Regression statistics\n",
      "\n",
      "               Mean Error (ME) : -0.0001\n",
      "Root Mean Squared Error (RMSE) : 0.5315\n",
      "     Mean Absolute Error (MAE) : 0.3792\n"
     ]
    }
   ],
   "source": [
    "# Ridge\n",
    "ridge = Ridge(normalize=True, alpha=1)\n",
    "ridge.fit(train_X, train_y)\n",
    "regressionSummary(valid_y, ridge.predict(valid_X))"
   ]
  },
  {
   "cell_type": "code",
   "execution_count": 15,
   "id": "59b15dfd",
   "metadata": {},
   "outputs": [
    {
     "name": "stdout",
     "output_type": "stream",
     "text": [
      "\n",
      "Regression statistics\n",
      "\n",
      "               Mean Error (ME) : -0.0001\n",
      "Root Mean Squared Error (RMSE) : 0.5191\n",
      "     Mean Absolute Error (MAE) : 0.3499\n"
     ]
    }
   ],
   "source": [
    "# BayesianRidge\n",
    "bayesianRidge = BayesianRidge(normalize=True)\n",
    "bayesianRidge.fit(train_X, train_y)\n",
    "regressionSummary(valid_y, bayesianRidge.predict(valid_X))"
   ]
  },
  {
   "cell_type": "code",
   "execution_count": 16,
   "id": "fbca7a56",
   "metadata": {},
   "outputs": [
    {
     "name": "stdout",
     "output_type": "stream",
     "text": [
      "Bayesian Ridge chosen regularization : 0.00043854653030155316\n",
      "[-9.49641967e-09 -1.34313989e-01 -9.27999734e-02  1.08333453e-01\n",
      "  1.12065629e-01  1.53385770e-01  1.90176784e-01  2.35578557e-01\n",
      "  2.67797018e-01  7.22522209e-02  5.71287451e-02  7.29329759e-02\n",
      "  6.56424148e-02  6.24379680e-02  6.35670802e-02 -6.01972155e-02\n",
      "  9.58419604e-02  9.13420121e-02 -4.05326090e-02 -1.02048217e-02\n",
      " -3.70192882e-02 -4.17937752e-02 -2.30621078e-02 -6.01801154e-02\n",
      " -8.11150135e-03  2.30480640e-02  6.88002673e-03  4.92605222e-02\n",
      "  5.23370631e-02]\n"
     ]
    }
   ],
   "source": [
    "# 반복적으로 시행해서 penalty parameter 결정해줌\n",
    "print('Bayesian Ridge chosen regularization :', bayesianRidge.lambda_ / bayesianRidge.alpha_)\n",
    "print(bayesianRidge.coef_)"
   ]
  },
  {
   "cell_type": "markdown",
   "id": "ec3421c3",
   "metadata": {},
   "source": [
    "## 모델"
   ]
  },
  {
   "cell_type": "markdown",
   "id": "7ab1a769",
   "metadata": {},
   "source": [
    "1. LinearRegression\n",
    "2. Lasso (L1 규제) : 예측 영향력이 적은 feature의 회귀계수를 0으로 만든다 (=> feature selection 기능)\n",
    "3. LassoCV\n",
    "4. Ridge (L2 규제) : 상대적으로 큰 회귀계수 값의 예측 영향을 감소시키기 위해 회귀 계수값을 더 작게 만드는 규제모델\n",
    "5. bayesianRidge\n",
    "6. ElasticNet : L1, L2 규제 결합한 모델, feature 수 많은 데이터셋에 적용\n",
    "7. *Polynomial Regression : 다항 회귀 -> 18~20_ride랑 모든 변수 산점도 그리고 2차, 3차 변수 추가? 패키지는 없나* \n",
    "8. **Ensemble**  \n",
    "randomforestregressor, lgbmregressor, xgboostregressor, gradientbosstingregressor  "
   ]
  },
  {
   "cell_type": "markdown",
   "id": "18c7e622",
   "metadata": {},
   "source": [
    "## 다음주"
   ]
  },
  {
   "cell_type": "markdown",
   "id": "06918e59",
   "metadata": {},
   "source": [
    "각자 간단한모델 1, 앙상블 모델 1 공부 및 파라미터 튜닝 "
   ]
  }
 ],
 "metadata": {
  "kernelspec": {
   "display_name": "Python 3 (ipykernel)",
   "language": "python",
   "name": "python3"
  },
  "language_info": {
   "codemirror_mode": {
    "name": "ipython",
    "version": 3
   },
   "file_extension": ".py",
   "mimetype": "text/x-python",
   "name": "python",
   "nbconvert_exporter": "python",
   "pygments_lexer": "ipython3",
   "version": "3.9.7"
  }
 },
 "nbformat": 4,
 "nbformat_minor": 5
}
