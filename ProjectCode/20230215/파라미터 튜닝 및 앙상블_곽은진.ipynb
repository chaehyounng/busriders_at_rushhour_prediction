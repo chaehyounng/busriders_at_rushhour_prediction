{
 "cells": [
  {
   "cell_type": "code",
   "execution_count": 3,
   "id": "8a489eb4",
   "metadata": {},
   "outputs": [],
   "source": [
    "import pandas as pd\n",
    "import xgboost as xgb\n",
    "from sklearn.model_selection import train_test_split"
   ]
  },
  {
   "cell_type": "code",
   "execution_count": 4,
   "id": "7e5d4a48",
   "metadata": {},
   "outputs": [],
   "source": [
    "train = pd.read_csv(\"C:/Class/MLproject/train3.csv\")"
   ]
  },
  {
   "cell_type": "markdown",
   "id": "508ba750",
   "metadata": {},
   "source": [
    "### 파라미터 튜닝 - BayesianOptimization"
   ]
  },
  {
   "cell_type": "code",
   "execution_count": 23,
   "id": "69bcd6c2",
   "metadata": {},
   "outputs": [
    {
     "name": "stdout",
     "output_type": "stream",
     "text": [
      "Collecting bayesian-optimization\n",
      "  Downloading bayesian_optimization-1.4.2-py3-none-any.whl (17 kB)\n",
      "Requirement already satisfied: scikit-learn>=0.18.0 in c:\\users\\kwak\\anaconda3\\lib\\site-packages (from bayesian-optimization) (1.0.2)\n",
      "Collecting colorama>=0.4.6\n",
      "  Downloading colorama-0.4.6-py2.py3-none-any.whl (25 kB)\n",
      "Requirement already satisfied: numpy>=1.9.0 in c:\\users\\kwak\\anaconda3\\lib\\site-packages (from bayesian-optimization) (1.21.5)\n",
      "Requirement already satisfied: scipy>=1.0.0 in c:\\users\\kwak\\anaconda3\\lib\\site-packages (from bayesian-optimization) (1.7.3)\n",
      "Requirement already satisfied: joblib>=0.11 in c:\\users\\kwak\\anaconda3\\lib\\site-packages (from scikit-learn>=0.18.0->bayesian-optimization) (1.1.0)\n",
      "Requirement already satisfied: threadpoolctl>=2.0.0 in c:\\users\\kwak\\anaconda3\\lib\\site-packages (from scikit-learn>=0.18.0->bayesian-optimization) (2.2.0)\n",
      "Installing collected packages: colorama, bayesian-optimization\n",
      "  Attempting uninstall: colorama\n",
      "    Found existing installation: colorama 0.4.4\n",
      "    Uninstalling colorama-0.4.4:\n",
      "      Successfully uninstalled colorama-0.4.4\n",
      "Successfully installed bayesian-optimization-1.4.2 colorama-0.4.6\n"
     ]
    }
   ],
   "source": [
    "!pip install bayesian-optimization"
   ]
  },
  {
   "cell_type": "code",
   "execution_count": 5,
   "id": "a7422ee4",
   "metadata": {},
   "outputs": [],
   "source": [
    "from xgboost import plot_importance\n",
    "from xgboost import XGBRegressor\n",
    "import xgboost\n",
    "from sklearn.metrics import explained_variance_score\n",
    "import matplotlib.pyplot as plt\n",
    "\n",
    "X = train[['id','bus_route_id','latitude','longitude', '6~7_ride','7~8_ride',\n",
    "                 '8~9_ride','9~10_ride','10~11_ride','11~12_ride','6~7_takeoff',\n",
    "                 '7~8_takeoff','8~9_takeoff','9~10_takeoff','10~11_takeoff','11~12_takeoff','region_e',\n",
    "       'region_n', 'region_o', 'region_s', 'region_w', 'in_out_시내',\n",
    "       'in_out_시외', 'rain_0', 'rain_1', 'rain_2', 'rain_3']]\n",
    "\n",
    "\n",
    "y = train[['18~20_ride']]\n",
    "\n",
    "X_train, X_test, y_train, y_test = train_test_split(X, y, train_size=0.8, test_size=0.2)"
   ]
  },
  {
   "cell_type": "code",
   "execution_count": 33,
   "id": "60fceb16",
   "metadata": {},
   "outputs": [
    {
     "name": "stderr",
     "output_type": "stream",
     "text": [
      "ERROR: pip's dependency resolver does not currently take into account all the packages that are installed. This behaviour is the source of the following dependency conflicts.\n",
      "bayesian-optimization 1.4.2 requires colorama>=0.4.6, but you have colorama 0.4.4 which is incompatible.\n"
     ]
    },
    {
     "name": "stdout",
     "output_type": "stream",
     "text": [
      "Collecting colorama==0.4.4\n",
      "  Downloading colorama-0.4.4-py2.py3-none-any.whl (16 kB)\n",
      "Installing collected packages: colorama\n",
      "  Attempting uninstall: colorama\n",
      "    Found existing installation: colorama 0.4.6\n",
      "    Uninstalling colorama-0.4.6:\n",
      "      Successfully uninstalled colorama-0.4.6\n",
      "Successfully installed colorama-0.4.4\n",
      "Collecting bayesian-optimization==1.4.0\n",
      "  Downloading bayesian_optimization-1.4.0-py3-none-any.whl (17 kB)\n",
      "Requirement already satisfied: scipy>=1.0.0 in c:\\users\\kwak\\anaconda3\\lib\\site-packages (from bayesian-optimization==1.4.0) (1.7.3)\n",
      "Requirement already satisfied: scikit-learn>=0.18.0 in c:\\users\\kwak\\anaconda3\\lib\\site-packages (from bayesian-optimization==1.4.0) (1.0.2)\n",
      "Requirement already satisfied: numpy>=1.9.0 in c:\\users\\kwak\\anaconda3\\lib\\site-packages (from bayesian-optimization==1.4.0) (1.21.5)\n",
      "Requirement already satisfied: joblib>=0.11 in c:\\users\\kwak\\anaconda3\\lib\\site-packages (from scikit-learn>=0.18.0->bayesian-optimization==1.4.0) (1.1.0)\n",
      "Requirement already satisfied: threadpoolctl>=2.0.0 in c:\\users\\kwak\\anaconda3\\lib\\site-packages (from scikit-learn>=0.18.0->bayesian-optimization==1.4.0) (2.2.0)\n",
      "Installing collected packages: bayesian-optimization\n",
      "  Attempting uninstall: bayesian-optimization\n",
      "    Found existing installation: bayesian-optimization 1.4.2\n",
      "    Uninstalling bayesian-optimization-1.4.2:\n",
      "      Successfully uninstalled bayesian-optimization-1.4.2\n",
      "Successfully installed bayesian-optimization-1.4.0\n"
     ]
    }
   ],
   "source": [
    "!pip install colorama==0.4.4\n",
    "!pip install bayesian-optimization==1.4.0"
   ]
  },
  {
   "cell_type": "markdown",
   "id": "535d5228",
   "metadata": {},
   "source": [
    "#### XGBoost 파라미터\n",
    "* max_depth [default = 6] : 나무의 최대 깊이\n",
    "* min_child_weight [default = 1] : child node에 필요한 인스턴스 가중치의 최소 합계\n",
    "* gamma [default = 0] : 트리의 리프 노드에서 추가 파티션을 만드는 데 필요한 최소 손실 감소\n",
    "* subsample [default = 1] : 훈련 인스턴스의 하위 샘플 비율\n",
    "* colsample_bytree [default = 1] : 각 트리를 구성할 때 열의 하위 샘플 비율\n",
    "* eta [default = 0.3] : 과적합을 방지하기 위해 업데이트에 사용되는 단계 크기 축소\n",
    "* num_round : 부스팅을 위한 반복 학습 수\n",
    "\n",
    "더 있는 듯 ..?"
   ]
  },
  {
   "cell_type": "code",
   "execution_count": 74,
   "id": "ac5e8d9a",
   "metadata": {},
   "outputs": [],
   "source": [
    "import xgboost as xgb\n",
    "from xgboost import plot_importance\n",
    "from xgboost import XGBRegressor\n",
    "from bayes_opt import BayesianOptimization\n",
    " \n",
    "dtrain = xgb.DMatrix(data=X_train, label=y_train)\n",
    "dtest = xgb.DMatrix(data=X_test, label=y_test)\n",
    " \n",
    "\n",
    "def xgb_evaluate(max_depth, gamma, colsample_bytree,min_child_weight,eta,subsample):\n",
    "    params = {'eval_metric': 'rmse',\n",
    "              'objective':'reg:squarederror',\n",
    "              'min_child_weight': min_child_weight,\n",
    "              'max_depth': int(round(max_depth)),\n",
    "              'subsample': subsample,\n",
    "              'eta': eta,\n",
    "              'gamma': gamma,\n",
    "              'colsample_bytree': colsample_bytree}\n",
    " \n",
    "    cv_result = xgb.cv(params, dtrain, num_boost_round=100, nfold=3)    \n",
    "    \n",
    " \n",
    "    return -1.0 * cv_result['test-rmse-mean'].iloc[-1]\n",
    "    # BayesianOptimization의 maximize()를 사용하기 위해, RMSE 값을 음수로 반환"
   ]
  },
  {
   "cell_type": "code",
   "execution_count": 117,
   "id": "aa37dc67",
   "metadata": {},
   "outputs": [
    {
     "name": "stdout",
     "output_type": "stream",
     "text": [
      "|   iter    |  target   | colsam... |    eta    |   gamma   | max_depth | min_ch... | subsample |\n",
      "-------------------------------------------------------------------------------------------------\n"
     ]
    },
    {
     "name": "stderr",
     "output_type": "stream",
     "text": [
      "C:\\Users\\KWAK\\AppData\\Local\\Temp\\ipykernel_49592\\902295529.py:10: DeprecationWarning: \n",
      "Passing acquisition function parameters or gaussian process parameters to maximize\n",
      "is no longer supported, and will cause an error in future releases. Instead,\n",
      "please use the \"set_gp_params\" method to set the gp params, and pass an instance\n",
      " of bayes_opt.util.UtilityFunction using the acquisition_function argument\n",
      "\n",
      "  xgb_bo.maximize(init_points=5, n_iter=5, acq='ei') # init_points : 처음 탐색 횟수, n_iter : 추가 반복 횟수 (연산횟수)\n"
     ]
    },
    {
     "name": "stdout",
     "output_type": "stream",
     "text": [
      "| \u001b[0m1        \u001b[0m | \u001b[0m-0.274   \u001b[0m | \u001b[0m0.5488   \u001b[0m | \u001b[0m0.7152   \u001b[0m | \u001b[0m0.6028   \u001b[0m | \u001b[0m8.628    \u001b[0m | \u001b[0m6.355    \u001b[0m | \u001b[0m0.6459   \u001b[0m |\n",
      "| \u001b[0m2        \u001b[0m | \u001b[0m-0.2785  \u001b[0m | \u001b[0m0.4376   \u001b[0m | \u001b[0m0.8918   \u001b[0m | \u001b[0m0.9637   \u001b[0m | \u001b[0m6.368    \u001b[0m | \u001b[0m11.88    \u001b[0m | \u001b[0m0.5289   \u001b[0m |\n",
      "| \u001b[0m3        \u001b[0m | \u001b[0m-0.2865  \u001b[0m | \u001b[0m0.568    \u001b[0m | \u001b[0m0.9256   \u001b[0m | \u001b[0m0.07104  \u001b[0m | \u001b[0m2.22     \u001b[0m | \u001b[0m0.3033   \u001b[0m | \u001b[0m0.8326   \u001b[0m |\n",
      "| \u001b[0m4        \u001b[0m | \u001b[0m-0.2795  \u001b[0m | \u001b[0m0.7782   \u001b[0m | \u001b[0m0.87     \u001b[0m | \u001b[0m0.9786   \u001b[0m | \u001b[0m12.19    \u001b[0m | \u001b[0m6.922    \u001b[0m | \u001b[0m0.7805   \u001b[0m |\n",
      "| \u001b[0m5        \u001b[0m | \u001b[0m-0.2844  \u001b[0m | \u001b[0m0.1183   \u001b[0m | \u001b[0m0.6399   \u001b[0m | \u001b[0m0.1434   \u001b[0m | \u001b[0m14.23    \u001b[0m | \u001b[0m7.828    \u001b[0m | \u001b[0m0.4147   \u001b[0m |\n",
      "| \u001b[0m6        \u001b[0m | \u001b[0m-0.4757  \u001b[0m | \u001b[0m1.0      \u001b[0m | \u001b[0m0.0      \u001b[0m | \u001b[0m1.0      \u001b[0m | \u001b[0m6.177    \u001b[0m | \u001b[0m7.426    \u001b[0m | \u001b[0m0.0      \u001b[0m |\n",
      "| \u001b[0m7        \u001b[0m | \u001b[0m-0.8438  \u001b[0m | \u001b[0m0.6278   \u001b[0m | \u001b[0m0.6974   \u001b[0m | \u001b[0m0.3945   \u001b[0m | \u001b[0m8.484    \u001b[0m | \u001b[0m6.231    \u001b[0m | \u001b[0m0.03194  \u001b[0m |\n",
      "| \u001b[0m8        \u001b[0m | \u001b[0m-0.3142  \u001b[0m | \u001b[0m0.6058   \u001b[0m | \u001b[0m0.0129   \u001b[0m | \u001b[0m0.6155   \u001b[0m | \u001b[0m6.782    \u001b[0m | \u001b[0m14.88    \u001b[0m | \u001b[0m0.4243   \u001b[0m |\n",
      "| \u001b[95m9        \u001b[0m | \u001b[95m-0.2616  \u001b[0m | \u001b[95m0.1542   \u001b[0m | \u001b[95m0.1228   \u001b[0m | \u001b[95m0.1202   \u001b[0m | \u001b[95m14.63    \u001b[0m | \u001b[95m4.575    \u001b[0m | \u001b[95m0.5114   \u001b[0m |\n",
      "| \u001b[0m10       \u001b[0m | \u001b[0m-0.2701  \u001b[0m | \u001b[0m0.1653   \u001b[0m | \u001b[0m0.1898   \u001b[0m | \u001b[0m0.4643   \u001b[0m | \u001b[0m13.54    \u001b[0m | \u001b[0m7.048    \u001b[0m | \u001b[0m0.1907   \u001b[0m |\n",
      "=================================================================================================\n"
     ]
    }
   ],
   "source": [
    "# 하이퍼 파라미터 입력 범위 설정 및 베이지안 최적화?\n",
    "xgb_bo = BayesianOptimization(xgb_evaluate, {'max_depth': (1, 15), \n",
    "                                             'gamma': (0, 1),\n",
    "                                             'colsample_bytree': (0, 1.0),\n",
    "                                            'min_child_weight': (0, 15),\n",
    "                                            'eta':(0, 1.0),\n",
    "                                            'subsample':(0, 1.0)},random_state=0)\n",
    "\n",
    "# target(RMSE)이 최대가 되는 최적해를 찾기\n",
    "xgb_bo.maximize(init_points=5, n_iter=5, acq='ei') # init_points : 처음 탐색 횟수, n_iter : 추가 반복 횟수 (연산횟수)\n"
   ]
  },
  {
   "cell_type": "code",
   "execution_count": 6,
   "id": "9a218a66",
   "metadata": {},
   "outputs": [
    {
     "data": {
      "text/plain": [
       "XGBRegressor(base_score=None, booster=None, callbacks=None,\n",
       "             colsample_bylevel=None, colsample_bynode=None,\n",
       "             colsample_bytree=0.1542, early_stopping_rounds=None,\n",
       "             enable_categorical=False, eta=0.1228, eval_metric=None,\n",
       "             feature_types=None, gamma=0.1202, gpu_id=None, grow_policy=None,\n",
       "             importance_type=None, interaction_constraints=None,\n",
       "             learning_rate=0.08, max_bin=None, max_cat_threshold=None,\n",
       "             max_cat_to_onehot=None, max_delta_step=None, max_depth=15,\n",
       "             max_leaves=None, min_child_weight=4.575, missing=nan,\n",
       "             monotone_constraints=None, n_estimators=1000, n_jobs=None,\n",
       "             num_parallel_tree=None, predictor=None, ...)"
      ]
     },
     "execution_count": 6,
     "metadata": {},
     "output_type": "execute_result"
    }
   ],
   "source": [
    "# 최적의 파라미터 사용해서 모델 적합\n",
    "\n",
    "xgb_model = xgboost.XGBRegressor(n_estimators=1000, learning_rate=0.08, gamma=0.1202 , subsample=0.5114 ,\n",
    "                                colsample_bytree=0.1542  , max_depth=15, eta = 0.1228 , min_child_weight = 4.575 )\n",
    "\n",
    "xgb_model.fit(X_train,y_train)"
   ]
  },
  {
   "cell_type": "code",
   "execution_count": 8,
   "id": "dd0b0044",
   "metadata": {},
   "outputs": [
    {
     "name": "stdout",
     "output_type": "stream",
     "text": [
      "0.751220995952983\n",
      "0.6169200894047013\n"
     ]
    }
   ],
   "source": [
    "print(xgb_model.score(X_train, y_train))\n",
    "print(xgb_model.score(X_test, y_test))"
   ]
  },
  {
   "cell_type": "code",
   "execution_count": 9,
   "id": "78970211",
   "metadata": {},
   "outputs": [
    {
     "name": "stdout",
     "output_type": "stream",
     "text": [
      "\n",
      "Regression statistics\n",
      "\n",
      "               Mean Error (ME) : -0.0000\n",
      "Root Mean Squared Error (RMSE) : 0.2436\n",
      "     Mean Absolute Error (MAE) : 0.1686\n"
     ]
    }
   ],
   "source": [
    "from dmba import regressionSummary\n",
    "regressionSummary(y_test, xgb_model.predict(X_test))"
   ]
  },
  {
   "cell_type": "markdown",
   "id": "6d04f276",
   "metadata": {},
   "source": [
    "### 앙상블 (RandomForest, XGBoost, LGBM)"
   ]
  },
  {
   "cell_type": "markdown",
   "id": "1319c43a",
   "metadata": {},
   "source": [
    "#### RandomForest"
   ]
  },
  {
   "cell_type": "code",
   "execution_count": 10,
   "id": "beb85b3c",
   "metadata": {},
   "outputs": [
    {
     "name": "stderr",
     "output_type": "stream",
     "text": [
      "C:\\Users\\KWAK\\AppData\\Local\\Temp\\ipykernel_13608\\1874545960.py:4: DataConversionWarning: A column-vector y was passed when a 1d array was expected. Please change the shape of y to (n_samples,), for example using ravel().\n",
      "  rf.fit(X_train, y_train)\n"
     ]
    },
    {
     "data": {
      "text/plain": [
       "RandomForestRegressor(max_depth=8, min_samples_leaf=8, min_samples_split=8,\n",
       "                      n_estimators=200, random_state=0)"
      ]
     },
     "execution_count": 10,
     "metadata": {},
     "output_type": "execute_result"
    }
   ],
   "source": [
    "from sklearn.ensemble import RandomForestRegressor\n",
    "\n",
    "rf = RandomForestRegressor(random_state=0, max_depth=8, min_samples_leaf=8, min_samples_split=8,n_estimators=200)\n",
    "rf.fit(X_train, y_train)"
   ]
  },
  {
   "cell_type": "code",
   "execution_count": 11,
   "id": "afcb635c",
   "metadata": {},
   "outputs": [],
   "source": [
    "rf_predict = rf.predict(X_train)"
   ]
  },
  {
   "cell_type": "markdown",
   "id": "e4276268",
   "metadata": {},
   "source": [
    "#### XGBoost"
   ]
  },
  {
   "cell_type": "code",
   "execution_count": 12,
   "id": "9209e23a",
   "metadata": {},
   "outputs": [],
   "source": [
    "xgb_predict = xgb_model.predict(X_train)"
   ]
  },
  {
   "cell_type": "markdown",
   "id": "d865237a",
   "metadata": {},
   "source": [
    "#### Lightgbm"
   ]
  },
  {
   "cell_type": "code",
   "execution_count": 95,
   "id": "a9f512ba",
   "metadata": {},
   "outputs": [
    {
     "name": "stdout",
     "output_type": "stream",
     "text": [
      "Collecting lightgbm\n",
      "  Downloading lightgbm-3.3.5-py3-none-win_amd64.whl (1.0 MB)\n",
      "Requirement already satisfied: wheel in c:\\users\\kwak\\anaconda3\\lib\\site-packages (from lightgbm) (0.37.1)\n",
      "Requirement already satisfied: numpy in c:\\users\\kwak\\anaconda3\\lib\\site-packages (from lightgbm) (1.21.5)\n",
      "Requirement already satisfied: scipy in c:\\users\\kwak\\anaconda3\\lib\\site-packages (from lightgbm) (1.7.3)\n",
      "Requirement already satisfied: scikit-learn!=0.22.0 in c:\\users\\kwak\\anaconda3\\lib\\site-packages (from lightgbm) (1.0.2)\n",
      "Requirement already satisfied: threadpoolctl>=2.0.0 in c:\\users\\kwak\\anaconda3\\lib\\site-packages (from scikit-learn!=0.22.0->lightgbm) (2.2.0)\n",
      "Requirement already satisfied: joblib>=0.11 in c:\\users\\kwak\\anaconda3\\lib\\site-packages (from scikit-learn!=0.22.0->lightgbm) (1.1.0)\n",
      "Installing collected packages: lightgbm\n",
      "Successfully installed lightgbm-3.3.5\n"
     ]
    }
   ],
   "source": [
    "!pip install lightgbm"
   ]
  },
  {
   "cell_type": "code",
   "execution_count": 13,
   "id": "fa1177af",
   "metadata": {},
   "outputs": [
    {
     "name": "stdout",
     "output_type": "stream",
     "text": [
      "[LightGBM] [Warning] 211949 is set=, 211949= will be ignored. Current value: 211949=\n",
      "[LightGBM] [Warning] 4094 is set=, 4094= will be ignored. Current value: 4094=\n",
      "[LightGBM] [Warning] 0.000000 is set=, 0.000000= will be ignored. Current value: 0.000000=\n",
      "[LightGBM] [Warning] 0.000000 is set=, 0.000000= will be ignored. Current value: 0.000000=\n",
      "[LightGBM] [Warning] 126648 is set=, 126648= will be ignored. Current value: 126648=\n",
      "[LightGBM] [Warning] 0.000000 is set=, 0.000000= will be ignored. Current value: 0.000000=\n",
      "[LightGBM] [Warning] 0.000000 is set=, 0.000000= will be ignored. Current value: 0.000000=\n",
      "[LightGBM] [Warning] 173077 is set=, 173077= will be ignored. Current value: 173077=\n",
      "[LightGBM] [Warning] 0.000000 is set=, 0.000000= will be ignored. Current value: 0.000000=\n",
      "[LightGBM] [Warning] 35691 is set=, 35691= will be ignored. Current value: 35691=\n",
      "[LightGBM] [Warning] 0.000000 is set=, 0.000000= will be ignored. Current value: 0.000000=\n",
      "[LightGBM] [Warning] 0.000000 is set=, 0.000000= will be ignored. Current value: 0.000000=\n",
      "[LightGBM] [Warning] ... is set=, ...= will be ignored. Current value: ...=\n",
      "[LightGBM] [Warning] ... is set=, ...= will be ignored. Current value: ...=\n",
      "[LightGBM] [Warning] ... is set=, ...= will be ignored. Current value: ...=\n",
      "[LightGBM] [Warning] ... is set=, ...= will be ignored. Current value: ...=\n",
      "[LightGBM] [Warning] ... is set=, ...= will be ignored. Current value: ...=\n",
      "[LightGBM] [Warning] ... is set=, ...= will be ignored. Current value: ...=\n",
      "[LightGBM] [Warning] 237708 is set=, 237708= will be ignored. Current value: 237708=\n",
      "[LightGBM] [Warning] 0.000000 is set=, 0.000000= will be ignored. Current value: 0.000000=\n",
      "[LightGBM] [Warning] 0.000000 is set=, 0.000000= will be ignored. Current value: 0.000000=\n",
      "[LightGBM] [Warning] 4390 is set=, 4390= will be ignored. Current value: 4390=\n",
      "[LightGBM] [Warning] 33.50163 is set=, 33.50163= will be ignored. Current value: 33.50163=\n",
      "[LightGBM] [Warning] 126.51970 is set=, 126.51970= will be ignored. Current value: 126.51970=\n",
      "[LightGBM] [Warning] 0.000000 is set=, 0.000000= will be ignored. Current value: 0.000000=\n",
      "[LightGBM] [Warning] 0.526589 is set=, 0.526589= will be ignored. Current value: 0.526589=\n",
      "[LightGBM] [Warning] 202471 is set=, 202471= will be ignored. Current value: 202471=\n",
      "[LightGBM] [Warning] 138714 is set=, 138714= will be ignored. Current value: 138714=\n",
      "[LightGBM] [Warning] 0.000000 is set=, 0.000000= will be ignored. Current value: 0.000000=\n",
      "[LightGBM] [Warning] 0.000000 is set=, 0.000000= will be ignored. Current value: 0.000000=\n",
      "[LightGBM] [Warning] 166205 is set=, 166205= will be ignored. Current value: 166205=\n",
      "[LightGBM] [Warning] 0.000000 is set=, 0.000000= will be ignored. Current value: 0.000000=\n",
      "[LightGBM] [Warning] 0.000000 is set=, 0.000000= will be ignored. Current value: 0.000000=\n",
      "[LightGBM] [Warning] ... is set=, ...= will be ignored. Current value: ...=\n",
      "[LightGBM] [Warning] \\ is set=, \\= will be ignored. Current value: \\=\n",
      "[LightGBM] [Warning] 211949 is set=, 211949= will be ignored. Current value: 211949=\n",
      "[LightGBM] [Warning] 0.000000 is set=, 0.000000= will be ignored. Current value: 0.000000=\n",
      "[LightGBM] [Warning] 0.000000 is set=, 0.000000= will be ignored. Current value: 0.000000=\n",
      "[LightGBM] [Warning] 0.000000 is set=, 0.000000= will be ignored. Current value: 0.000000=\n",
      "[LightGBM] [Warning] 0.000000 is set=, 0.000000= will be ignored. Current value: 0.000000=\n",
      "[LightGBM] [Warning] ... is set=, ...= will be ignored. Current value: ...=\n",
      "[LightGBM] [Warning] 0 is set=, 0= will be ignored. Current value: 0=\n",
      "[LightGBM] [Warning] 4094 is set=, 4094= will be ignored. Current value: 4094=\n",
      "[LightGBM] [Warning] 0.959135 is set=, 0.959135= will be ignored. Current value: 0.959135=\n",
      "[LightGBM] [Warning] 0.000000 is set=, 0.000000= will be ignored. Current value: 0.000000=\n",
      "[LightGBM] [Warning] 0.526589 is set=, 0.526589= will be ignored. Current value: 0.526589=\n",
      "[LightGBM] [Warning] 0.000000 is set=, 0.000000= will be ignored. Current value: 0.000000=\n",
      "[LightGBM] [Warning] ... is set=, ...= will be ignored. Current value: ...=\n",
      "[LightGBM] [Warning] 0 is set=, 0= will be ignored. Current value: 0=\n",
      "[LightGBM] [Warning] 126648 is set=, 126648= will be ignored. Current value: 126648=\n",
      "[LightGBM] [Warning] 0.000000 is set=, 0.000000= will be ignored. Current value: 0.000000=\n",
      "[LightGBM] [Warning] 0.000000 is set=, 0.000000= will be ignored. Current value: 0.000000=\n",
      "[LightGBM] [Warning] 0.000000 is set=, 0.000000= will be ignored. Current value: 0.000000=\n",
      "[LightGBM] [Warning] 0.000000 is set=, 0.000000= will be ignored. Current value: 0.000000=\n",
      "[LightGBM] [Warning] ... is set=, ...= will be ignored. Current value: ...=\n",
      "[LightGBM] [Warning] 1 is set=, 1= will be ignored. Current value: 1=\n",
      "[LightGBM] [Warning] 0 is set=, 0= will be ignored. Current value: 0=\n",
      "[LightGBM] [Warning] 173077 is set=, 173077= will be ignored. Current value: 173077=\n",
      "[LightGBM] [Warning] 0.000000 is set=, 0.000000= will be ignored. Current value: 0.000000=\n",
      "[LightGBM] [Warning] 0.000000 is set=, 0.000000= will be ignored. Current value: 0.000000=\n",
      "[LightGBM] [Warning] 0.000000 is set=, 0.000000= will be ignored. Current value: 0.000000=\n",
      "[LightGBM] [Warning] 0.000000 is set=, 0.000000= will be ignored. Current value: 0.000000=\n",
      "[LightGBM] [Warning] ... is set=, ...= will be ignored. Current value: ...=\n",
      "[LightGBM] [Warning] 0 is set=, 0= will be ignored. Current value: 0=\n",
      "[LightGBM] [Warning] 0 is set=, 0= will be ignored. Current value: 0=\n",
      "[LightGBM] [Warning] 35691 is set=, 35691= will be ignored. Current value: 35691=\n",
      "[LightGBM] [Warning] 0.000000 is set=, 0.000000= will be ignored. Current value: 0.000000=\n",
      "[LightGBM] [Warning] 0.000000 is set=, 0.000000= will be ignored. Current value: 0.000000=\n",
      "[LightGBM] [Warning] 0.000000 is set=, 0.000000= will be ignored. Current value: 0.000000=\n",
      "[LightGBM] [Warning] 0.000000 is set=, 0.000000= will be ignored. Current value: 0.000000=\n",
      "[LightGBM] [Warning] ... is set=, ...= will be ignored. Current value: ...=\n",
      "[LightGBM] [Warning] 1 is set=, 1= will be ignored. Current value: 1=\n",
      "[LightGBM] [Warning] 0 is set=, 0= will be ignored. Current value: 0=\n",
      "[LightGBM] [Warning] ... is set=, ...= will be ignored. Current value: ...=\n",
      "[LightGBM] [Warning] ... is set=, ...= will be ignored. Current value: ...=\n",
      "[LightGBM] [Warning] ... is set=, ...= will be ignored. Current value: ...=\n",
      "[LightGBM] [Warning] ... is set=, ...= will be ignored. Current value: ...=\n",
      "[LightGBM] [Warning] ... is set=, ...= will be ignored. Current value: ...=\n",
      "[LightGBM] [Warning] ... is set=, ...= will be ignored. Current value: ...=\n",
      "[LightGBM] [Warning] ... is set=, ...= will be ignored. Current value: ...=\n",
      "[LightGBM] [Warning] ... is set=, ...= will be ignored. Current value: ...=\n",
      "[LightGBM] [Warning] 237708 is set=, 237708= will be ignored. Current value: 237708=\n",
      "[LightGBM] [Warning] 0.000000 is set=, 0.000000= will be ignored. Current value: 0.000000=\n",
      "[LightGBM] [Warning] 0.000000 is set=, 0.000000= will be ignored. Current value: 0.000000=\n",
      "[LightGBM] [Warning] 0.000000 is set=, 0.000000= will be ignored. Current value: 0.000000=\n",
      "[LightGBM] [Warning] ... is set=, ...= will be ignored. Current value: ...=\n",
      "[LightGBM] [Warning] 0 is set=, 0= will be ignored. Current value: 0=\n",
      "[LightGBM] [Warning] 0 is set=, 0= will be ignored. Current value: 0=\n",
      "[LightGBM] [Warning] 4390 is set=, 4390= will be ignored. Current value: 4390=\n",
      "[LightGBM] [Warning] 0.000000 is set=, 0.000000= will be ignored. Current value: 0.000000=\n",
      "[LightGBM] [Warning] 0.000000 is set=, 0.000000= will be ignored. Current value: 0.000000=\n",
      "[LightGBM] [Warning] 0.000000 is set=, 0.000000= will be ignored. Current value: 0.000000=\n",
      "[LightGBM] [Warning] 0.000000 is set=, 0.000000= will be ignored. Current value: 0.000000=\n",
      "[LightGBM] [Warning] ... is set=, ...= will be ignored. Current value: ...=\n",
      "[LightGBM] [Warning] 1 is set=, 1= will be ignored. Current value: 1=\n",
      "[LightGBM] [Warning] 0 is set=, 0= will be ignored. Current value: 0=\n",
      "[LightGBM] [Warning] 202471 is set=, 202471= will be ignored. Current value: 202471=\n",
      "[LightGBM] [Warning] ... is set=, ...= will be ignored. Current value: ...=\n",
      "[LightGBM] [Warning] 1 is set=, 1= will be ignored. Current value: 1=\n",
      "[LightGBM] [Warning] 0 is set=, 0= will be ignored. Current value: 0=\n",
      "[LightGBM] [Warning] 138714 is set=, 138714= will be ignored. Current value: 138714=\n",
      "[LightGBM] [Warning] 0.000000 is set=, 0.000000= will be ignored. Current value: 0.000000=\n",
      "[LightGBM] [Warning] 0.526589 is set=, 0.526589= will be ignored. Current value: 0.526589=\n",
      "[LightGBM] [Warning] 0.000000 is set=, 0.000000= will be ignored. Current value: 0.000000=\n",
      "[LightGBM] [Warning] 0.000000 is set=, 0.000000= will be ignored. Current value: 0.000000=\n",
      "[LightGBM] [Warning] ... is set=, ...= will be ignored. Current value: ...=\n",
      "[LightGBM] [Warning] 0 is set=, 0= will be ignored. Current value: 0=\n",
      "[LightGBM] [Warning] 0 is set=, 0= will be ignored. Current value: 0=\n",
      "[LightGBM] [Warning] 166205 is set=, 166205= will be ignored. Current value: 166205=\n",
      "[LightGBM] [Warning] 0.000000 is set=, 0.000000= will be ignored. Current value: 0.000000=\n",
      "[LightGBM] [Warning] 0.000000 is set=, 0.000000= will be ignored. Current value: 0.000000=\n",
      "[LightGBM] [Warning] 0.000000 is set=, 0.000000= will be ignored. Current value: 0.000000=\n",
      "[LightGBM] [Warning] 0.526589 is set=, 0.526589= will be ignored. Current value: 0.526589=\n",
      "[LightGBM] [Warning] ... is set=, ...= will be ignored. Current value: ...=\n",
      "[LightGBM] [Warning] 0 is set=, 0= will be ignored. Current value: 0=\n",
      "[LightGBM] [Warning] 0 is set=, 0= will be ignored. Current value: 0=\n",
      "[LightGBM] [Warning] \\ is set=, \\= will be ignored. Current value: \\=\n",
      "[LightGBM] [Warning] 211949 is set=, 211949= will be ignored. Current value: 211949=\n",
      "[LightGBM] [Warning] 1 is set=, 1= will be ignored. Current value: 1=\n",
      "[LightGBM] [Warning] 0 is set=, 0= will be ignored. Current value: 0=\n",
      "[LightGBM] [Warning] 1 is set=, 1= will be ignored. Current value: 1=\n",
      "[LightGBM] [Warning] 0 is set=, 0= will be ignored. Current value: 0=\n",
      "[LightGBM] [Warning] 1 is set=, 1= will be ignored. Current value: 1=\n",
      "[LightGBM] [Warning] 0 is set=, 0= will be ignored. Current value: 0=\n",
      "[LightGBM] [Warning] 0 is set=, 0= will be ignored. Current value: 0=\n",
      "[LightGBM] [Warning] 4094 is set=, 4094= will be ignored. Current value: 4094=\n",
      "[LightGBM] [Warning] 0 is set=, 0= will be ignored. Current value: 0=\n",
      "[LightGBM] [Warning] 0 is set=, 0= will be ignored. Current value: 0=\n",
      "[LightGBM] [Warning] 1 is set=, 1= will be ignored. Current value: 1=\n",
      "[LightGBM] [Warning] 0 is set=, 0= will be ignored. Current value: 0=\n",
      "[LightGBM] [Warning] 0 is set=, 0= will be ignored. Current value: 0=\n",
      "[LightGBM] [Warning] 0 is set=, 0= will be ignored. Current value: 0=\n",
      "[LightGBM] [Warning] 1 is set=, 1= will be ignored. Current value: 1=\n",
      "[LightGBM] [Warning] 126648 is set=, 126648= will be ignored. Current value: 126648=\n",
      "[LightGBM] [Warning] 0 is set=, 0= will be ignored. Current value: 0=\n",
      "[LightGBM] [Warning] 0 is set=, 0= will be ignored. Current value: 0=\n",
      "[LightGBM] [Warning] 1 is set=, 1= will be ignored. Current value: 1=\n",
      "[LightGBM] [Warning] 0 is set=, 0= will be ignored. Current value: 0=\n",
      "[LightGBM] [Warning] 1 is set=, 1= will be ignored. Current value: 1=\n",
      "[LightGBM] [Warning] 0 is set=, 0= will be ignored. Current value: 0=\n",
      "[LightGBM] [Warning] 0 is set=, 0= will be ignored. Current value: 0=\n",
      "[LightGBM] [Warning] 173077 is set=, 173077= will be ignored. Current value: 173077=\n",
      "[LightGBM] [Warning] 0 is set=, 0= will be ignored. Current value: 0=\n",
      "[LightGBM] [Warning] 0 is set=, 0= will be ignored. Current value: 0=\n",
      "[LightGBM] [Warning] 1 is set=, 1= will be ignored. Current value: 1=\n",
      "[LightGBM] [Warning] 0 is set=, 0= will be ignored. Current value: 0=\n",
      "[LightGBM] [Warning] 1 is set=, 1= will be ignored. Current value: 1=\n",
      "[LightGBM] [Warning] 0 is set=, 0= will be ignored. Current value: 0=\n",
      "[LightGBM] [Warning] 0 is set=, 0= will be ignored. Current value: 0=\n",
      "[LightGBM] [Warning] 35691 is set=, 35691= will be ignored. Current value: 35691=\n",
      "[LightGBM] [Warning] 0 is set=, 0= will be ignored. Current value: 0=\n",
      "[LightGBM] [Warning] 0 is set=, 0= will be ignored. Current value: 0=\n",
      "[LightGBM] [Warning] 1 is set=, 1= will be ignored. Current value: 1=\n",
      "[LightGBM] [Warning] 0 is set=, 0= will be ignored. Current value: 0=\n",
      "[LightGBM] [Warning] 0 is set=, 0= will be ignored. Current value: 0=\n",
      "[LightGBM] [Warning] 0 is set=, 0= will be ignored. Current value: 0=\n",
      "[LightGBM] [Warning] 1 is set=, 1= will be ignored. Current value: 1=\n",
      "[LightGBM] [Warning] ... is set=, ...= will be ignored. Current value: ...=\n",
      "[LightGBM] [Warning] ... is set=, ...= will be ignored. Current value: ...=\n",
      "[LightGBM] [Warning] ... is set=, ...= will be ignored. Current value: ...=\n",
      "[LightGBM] [Warning] ... is set=, ...= will be ignored. Current value: ...=\n",
      "[LightGBM] [Warning] ... is set=, ...= will be ignored. Current value: ...=\n",
      "[LightGBM] [Warning] ... is set=, ...= will be ignored. Current value: ...=\n",
      "[LightGBM] [Warning] ... is set=, ...= will be ignored. Current value: ...=\n",
      "[LightGBM] [Warning] ... is set=, ...= will be ignored. Current value: ...=\n",
      "[LightGBM] [Warning] 237708 is set=, 237708= will be ignored. Current value: 237708=\n",
      "[LightGBM] [Warning] 0 is set=, 0= will be ignored. Current value: 0=\n",
      "[LightGBM] [Warning] 1 is set=, 1= will be ignored. Current value: 1=\n",
      "[LightGBM] [Warning] 1 is set=, 1= will be ignored. Current value: 1=\n",
      "[LightGBM] [Warning] 0 is set=, 0= will be ignored. Current value: 0=\n",
      "[LightGBM] [Warning] 1 is set=, 1= will be ignored. Current value: 1=\n",
      "[LightGBM] [Warning] 0 is set=, 0= will be ignored. Current value: 0=\n",
      "[LightGBM] [Warning] 0 is set=, 0= will be ignored. Current value: 0=\n",
      "[LightGBM] [Warning] 4390 is set=, 4390= will be ignored. Current value: 4390=\n",
      "[LightGBM] [Warning] 0 is set=, 0= will be ignored. Current value: 0=\n",
      "[LightGBM] [Warning] 0 is set=, 0= will be ignored. Current value: 0=\n",
      "[LightGBM] [Warning] 1 is set=, 1= will be ignored. Current value: 1=\n",
      "[LightGBM] [Warning] 0 is set=, 0= will be ignored. Current value: 0=\n",
      "[LightGBM] [Warning] 0 is set=, 0= will be ignored. Current value: 0=\n",
      "[LightGBM] [Warning] 0 is set=, 0= will be ignored. Current value: 0=\n",
      "[LightGBM] [Warning] 1 is set=, 1= will be ignored. Current value: 1=\n",
      "[LightGBM] [Warning] 202471 is set=, 202471= will be ignored. Current value: 202471=\n",
      "[LightGBM] [Warning] 0 is set=, 0= will be ignored. Current value: 0=\n",
      "[LightGBM] [Warning] 0 is set=, 0= will be ignored. Current value: 0=\n",
      "[LightGBM] [Warning] 1 is set=, 1= will be ignored. Current value: 1=\n",
      "[LightGBM] [Warning] 0 is set=, 0= will be ignored. Current value: 0=\n",
      "[LightGBM] [Warning] 1 is set=, 1= will be ignored. Current value: 1=\n",
      "[LightGBM] [Warning] 0 is set=, 0= will be ignored. Current value: 0=\n",
      "[LightGBM] [Warning] 0 is set=, 0= will be ignored. Current value: 0=\n",
      "[LightGBM] [Warning] 138714 is set=, 138714= will be ignored. Current value: 138714=\n",
      "[LightGBM] [Warning] 0 is set=, 0= will be ignored. Current value: 0=\n",
      "[LightGBM] [Warning] 1 is set=, 1= will be ignored. Current value: 1=\n",
      "[LightGBM] [Warning] 1 is set=, 1= will be ignored. Current value: 1=\n",
      "[LightGBM] [Warning] 0 is set=, 0= will be ignored. Current value: 0=\n",
      "[LightGBM] [Warning] 1 is set=, 1= will be ignored. Current value: 1=\n",
      "[LightGBM] [Warning] 0 is set=, 0= will be ignored. Current value: 0=\n",
      "[LightGBM] [Warning] 0 is set=, 0= will be ignored. Current value: 0=\n",
      "[LightGBM] [Warning] 166205 is set=, 166205= will be ignored. Current value: 166205=\n",
      "[LightGBM] [Warning] 1 is set=, 1= will be ignored. Current value: 1=\n",
      "[LightGBM] [Warning] 0 is set=, 0= will be ignored. Current value: 0=\n",
      "[LightGBM] [Warning] 1 is set=, 1= will be ignored. Current value: 1=\n",
      "[LightGBM] [Warning] 0 is set=, 0= will be ignored. Current value: 0=\n",
      "[LightGBM] [Warning] 1 is set=, 1= will be ignored. Current value: 1=\n",
      "[LightGBM] [Warning] 0 is set=, 0= will be ignored. Current value: 0=\n",
      "[LightGBM] [Warning] 0 is set=, 0= will be ignored. Current value: 0=\n",
      "[LightGBM] [Warning] 211949 is set=, 211949= will be ignored. Current value: 211949=\n",
      "[LightGBM] [Warning] 0 is set=, 0= will be ignored. Current value: 0=\n",
      "[LightGBM] [Warning] 4094 is set=, 4094= will be ignored. Current value: 4094=\n",
      "[LightGBM] [Warning] 0 is set=, 0= will be ignored. Current value: 0=\n",
      "[LightGBM] [Warning] 126648 is set=, 126648= will be ignored. Current value: 126648=\n",
      "[LightGBM] [Warning] 0 is set=, 0= will be ignored. Current value: 0=\n",
      "[LightGBM] [Warning] 173077 is set=, 173077= will be ignored. Current value: 173077=\n",
      "[LightGBM] [Warning] 0 is set=, 0= will be ignored. Current value: 0=\n",
      "[LightGBM] [Warning] 35691 is set=, 35691= will be ignored. Current value: 35691=\n",
      "[LightGBM] [Warning] 0 is set=, 0= will be ignored. Current value: 0=\n",
      "[LightGBM] [Warning] ... is set=, ...= will be ignored. Current value: ...=\n",
      "[LightGBM] [Warning] ... is set=, ...= will be ignored. Current value: ...=\n",
      "[LightGBM] [Warning] 237708 is set=, 237708= will be ignored. Current value: 237708=\n",
      "[LightGBM] [Warning] 0 is set=, 0= will be ignored. Current value: 0=\n",
      "[LightGBM] [Warning] 4390 is set=, 4390= will be ignored. Current value: 4390=\n",
      "[LightGBM] [Warning] 0 is set=, 0= will be ignored. Current value: 0=\n",
      "[LightGBM] [Warning] 202471 is set=, 202471= will be ignored. Current value: 202471=\n",
      "[LightGBM] [Warning] 0 is set=, 0= will be ignored. Current value: 0=\n",
      "[LightGBM] [Warning] 138714 is set=, 138714= will be ignored. Current value: 138714=\n",
      "[LightGBM] [Warning] 0 is set=, 0= will be ignored. Current value: 0=\n",
      "[LightGBM] [Warning] 166205 is set=, 166205= will be ignored. Current value: 166205=\n",
      "[LightGBM] [Warning] 0 is set=, 0= will be ignored. Current value: 0=\n",
      "[LightGBM] [Warning] 211949 is set=, 211949= will be ignored. Current value: 211949=\n",
      "[LightGBM] [Warning] 0.000000 is set=, 0.000000= will be ignored. Current value: 0.000000=\n",
      "[LightGBM] [Warning] 4094 is set=, 4094= will be ignored. Current value: 4094=\n",
      "[LightGBM] [Warning] 0.000000 is set=, 0.000000= will be ignored. Current value: 0.000000=\n",
      "[LightGBM] [Warning] 126648 is set=, 126648= will be ignored. Current value: 126648=\n",
      "[LightGBM] [Warning] 0.000000 is set=, 0.000000= will be ignored. Current value: 0.000000=\n",
      "[LightGBM] [Warning] 173077 is set=, 173077= will be ignored. Current value: 173077=\n",
      "[LightGBM] [Warning] 0.000000 is set=, 0.000000= will be ignored. Current value: 0.000000=\n",
      "[LightGBM] [Warning] 35691 is set=, 35691= will be ignored. Current value: 35691=\n",
      "[LightGBM] [Warning] 0.000000 is set=, 0.000000= will be ignored. Current value: 0.000000=\n",
      "[LightGBM] [Warning] ... is set=, ...= will be ignored. Current value: ...=\n",
      "[LightGBM] [Warning] ... is set=, ...= will be ignored. Current value: ...=\n",
      "[LightGBM] [Warning] 237708 is set=, 237708= will be ignored. Current value: 237708=\n",
      "[LightGBM] [Warning] 0.000000 is set=, 0.000000= will be ignored. Current value: 0.000000=\n",
      "[LightGBM] [Warning] 4390 is set=, 4390= will be ignored. Current value: 4390=\n",
      "[LightGBM] [Warning] 0.000000 is set=, 0.000000= will be ignored. Current value: 0.000000=\n",
      "[LightGBM] [Warning] 202471 is set=, 202471= will be ignored. Current value: 202471=\n",
      "[LightGBM] [Warning] 1.026672 is set=, 1.026672= will be ignored. Current value: 1.026672=\n",
      "[LightGBM] [Warning] 138714 is set=, 138714= will be ignored. Current value: 138714=\n",
      "[LightGBM] [Warning] 0.000000 is set=, 0.000000= will be ignored. Current value: 0.000000=\n",
      "[LightGBM] [Warning] 166205 is set=, 166205= will be ignored. Current value: 166205=\n",
      "[LightGBM] [Warning] 0.000000 is set=, 0.000000= will be ignored. Current value: 0.000000=\n",
      "[LightGBM] [Warning] [83085 is set=, [83085= will be ignored. Current value: [83085=\n",
      "[LightGBM] [Warning] rows is set=, rows= will be ignored. Current value: rows=\n",
      "[LightGBM] [Warning] x is set=, x= will be ignored. Current value: x=\n",
      "[LightGBM] [Warning] 1 is set=, 1= will be ignored. Current value: 1=\n",
      "[LightGBM] [Warning] Unknown parameter: 202471\n",
      "[LightGBM] [Warning] Unknown parameter: 4390\n",
      "[LightGBM] [Warning] Unknown parameter: 33.23564\n",
      "[LightGBM] [Warning] Unknown parameter: 33.48566\n",
      "[LightGBM] [Warning] Unknown parameter: longitude\n",
      "[LightGBM] [Warning] Unknown parameter: 126.25598\n",
      "[LightGBM] [Warning] Unknown parameter: 126.40443\n",
      "[LightGBM] [Warning] Unknown parameter: 33.40558\n",
      "[LightGBM] [Warning] Unknown parameter: 173077\n",
      "[LightGBM] [Warning] Unknown parameter: 33.46282\n",
      "[LightGBM] [Warning] Unknown parameter: 27990000\n",
      "[LightGBM] [Warning] Unknown parameter: 4094\n",
      "[LightGBM] [Warning] Unknown parameter: 126.51970\n",
      "[LightGBM] [Warning] Unknown parameter: 237708\n",
      "[LightGBM] [Warning] Unknown parameter: eval_set\n",
      "[LightGBM] [Warning] Unknown parameter: id\n",
      "[LightGBM] [Warning] Unknown parameter: 211949\n",
      "[LightGBM] [Warning] Unknown parameter: bus_route_id\n",
      "[LightGBM] [Warning] Unknown parameter: latitude\n",
      "[LightGBM] [Warning] Unknown parameter: ...\n",
      "[LightGBM] [Warning] Unknown parameter: 1.026672\n",
      "[LightGBM] [Warning] Unknown parameter: 6~7_ride\n",
      "[LightGBM] [Warning] Unknown parameter: 0.441230\n",
      "[LightGBM] [Warning] Unknown parameter: 7~8_ride\n",
      "[LightGBM] [Warning] Unknown parameter: 0.000000\n",
      "[LightGBM] [Warning] Unknown parameter: \\\n",
      "[LightGBM] [Warning] Unknown parameter: 33.50163\n",
      "[LightGBM] [Warning] Unknown parameter: 31630000\n",
      "[LightGBM] [Warning] Unknown parameter: 126.48010\n",
      "[LightGBM] [Warning] Unknown parameter: 126648\n",
      "[LightGBM] [Warning] Unknown parameter: 0.526589\n",
      "[LightGBM] [Warning] Unknown parameter: 24060000\n",
      "[LightGBM] [Warning] Unknown parameter: 33.51295\n",
      "[LightGBM] [Warning] Unknown parameter: 126.52795\n",
      "[LightGBM] [Warning] Unknown parameter: 22570000\n",
      "[LightGBM] [Warning] Unknown parameter: 28650000\n",
      "[LightGBM] [Warning] Unknown parameter: 126.91028\n",
      "[LightGBM] [Warning] Unknown parameter: 0.352793\n",
      "[LightGBM] [Warning] Unknown parameter: 35691\n",
      "[LightGBM] [Warning] Unknown parameter: 28700000\n",
      "[LightGBM] [Warning] Unknown parameter: 138714\n",
      "[LightGBM] [Warning] Unknown parameter: 33.48130\n",
      "[LightGBM] [Warning] Unknown parameter: 24200000\n",
      "[LightGBM] [Warning] Unknown parameter: 23570000\n",
      "[LightGBM] [Warning] Unknown parameter: 126.49492\n",
      "[LightGBM] [Warning] Unknown parameter: 0.959135\n",
      "[LightGBM] [Warning] Unknown parameter: 31570000\n",
      "[LightGBM] [Warning] Unknown parameter: 33.24786\n",
      "[LightGBM] [Warning] Unknown parameter: 126.27762\n",
      "[LightGBM] [Warning] Unknown parameter: 166205\n",
      "[LightGBM] [Warning] Unknown parameter: 31620000\n",
      "[LightGBM] [Warning] Unknown parameter: 33.23666\n",
      "[LightGBM] [Warning] Unknown parameter: [83085\n",
      "[LightGBM] [Warning] Unknown parameter: 126.51068\n",
      "[LightGBM] [Warning] Unknown parameter: 8~9_ride\n",
      "[LightGBM] [Warning] Unknown parameter: 9~10_ride\n",
      "[LightGBM] [Warning] Unknown parameter: 10~11_ride\n",
      "[LightGBM] [Warning] Unknown parameter: 11~12_ride\n",
      "[LightGBM] [Warning] Unknown parameter: region_n\n",
      "[LightGBM] [Warning] Unknown parameter: region_o\n",
      "[LightGBM] [Warning] Unknown parameter: 1.310506\n",
      "[LightGBM] [Warning] Unknown parameter: 0\n",
      "[LightGBM] [Warning] Unknown parameter: 1\n",
      "[LightGBM] [Warning] Unknown parameter: 0.741276\n",
      "[LightGBM] [Warning] Unknown parameter: in_out_시외\n",
      "[LightGBM] [Warning] Unknown parameter: 1.271150\n",
      "[LightGBM] [Warning] Unknown parameter: 1.223156\n",
      "[LightGBM] [Warning] Unknown parameter: region_s\n",
      "[LightGBM] [Warning] Unknown parameter: region_w\n",
      "[LightGBM] [Warning] Unknown parameter: in_out_시내\n",
      "[LightGBM] [Warning] Unknown parameter: rain_0\n",
      "[LightGBM] [Warning] Unknown parameter: rain_1\n",
      "[LightGBM] [Warning] Unknown parameter: rain_2\n",
      "[LightGBM] [Warning] Unknown parameter: rain_3\n",
      "[LightGBM] [Warning] Unknown parameter: rows\n",
      "[LightGBM] [Warning] Unknown parameter: x\n",
      "[LightGBM] [Warning] Unknown parameter: 27\n",
      "[LightGBM] [Warning] Unknown parameter: columns],\n",
      "[LightGBM] [Warning] Unknown parameter: 18~20_ride\n",
      "[LightGBM] [Warning] Unknown parameter: columns]\n",
      "[LightGBM] [Warning] boosting is set=dart, boosting_type=gbdt will be ignored. Current value: boosting=dart\n",
      "[LightGBM] [Warning] feature_fraction is set=0.73, colsample_bytree=1.0 will be ignored. Current value: feature_fraction=0.73\n",
      "[LightGBM] [Warning] bagging_fraction is set=0.6, subsample=1.0 will be ignored. Current value: bagging_fraction=0.6\n",
      "[LightGBM] [Warning] early_stopping_round is set=16, early_stopping_rounds=16 will be ignored. Current value: early_stopping_round=16\n"
     ]
    },
    {
     "name": "stderr",
     "output_type": "stream",
     "text": [
      "C:\\Users\\KWAK\\anaconda3\\lib\\site-packages\\lightgbm\\callback.py:223: UserWarning: Early stopping is not available in dart mode\n",
      "  _log_warning('Early stopping is not available in dart mode')\n"
     ]
    }
   ],
   "source": [
    "import lightgbm as lgb\n",
    "lgbm = lgb.LGBMRegressor(bagging_fraction=0.6,\n",
    "                              early_stopping_rounds=16,\n",
    "                              feature_fraction=0.73,\n",
    "                              learning_rate = 0.07,\n",
    "                              max_depth = 14,\n",
    "                              min_child_samples = 20,\n",
    "                              min_split_gain = 0.0064, \n",
    "                              n_estimators = 172,\n",
    "                              num_leaves = 39,\n",
    "                              boosting = \"dart\",\n",
    "                              metric = \"rmse\",\n",
    "                              task = \"predict\",\n",
    "                              application = \"regression\",\n",
    "                              eval_set = (X_test, y_test))\n",
    "lgbm.fit(X_train, y_train)\n",
    "lgbm_predict = lgbm.predict(X_train)"
   ]
  },
  {
   "cell_type": "markdown",
   "id": "34b53c37",
   "metadata": {},
   "source": [
    "#### 각 predict 평균 내기"
   ]
  },
  {
   "cell_type": "code",
   "execution_count": 14,
   "id": "d3d625a0",
   "metadata": {},
   "outputs": [],
   "source": [
    "predict = pd.DataFrame(columns = ['rf','xgb','lgbm','mean'])"
   ]
  },
  {
   "cell_type": "code",
   "execution_count": 15,
   "id": "993be444",
   "metadata": {},
   "outputs": [
    {
     "ename": "KeyError",
     "evalue": "'18~29_ride'",
     "output_type": "error",
     "traceback": [
      "\u001b[1;31m---------------------------------------------------------------------------\u001b[0m",
      "\u001b[1;31mKeyError\u001b[0m                                  Traceback (most recent call last)",
      "File \u001b[1;32m~\\anaconda3\\lib\\site-packages\\pandas\\core\\indexes\\base.py:3361\u001b[0m, in \u001b[0;36mIndex.get_loc\u001b[1;34m(self, key, method, tolerance)\u001b[0m\n\u001b[0;32m   3360\u001b[0m \u001b[38;5;28;01mtry\u001b[39;00m:\n\u001b[1;32m-> 3361\u001b[0m     \u001b[38;5;28;01mreturn\u001b[39;00m \u001b[38;5;28;43mself\u001b[39;49m\u001b[38;5;241;43m.\u001b[39;49m\u001b[43m_engine\u001b[49m\u001b[38;5;241;43m.\u001b[39;49m\u001b[43mget_loc\u001b[49m\u001b[43m(\u001b[49m\u001b[43mcasted_key\u001b[49m\u001b[43m)\u001b[49m\n\u001b[0;32m   3362\u001b[0m \u001b[38;5;28;01mexcept\u001b[39;00m \u001b[38;5;167;01mKeyError\u001b[39;00m \u001b[38;5;28;01mas\u001b[39;00m err:\n",
      "File \u001b[1;32m~\\anaconda3\\lib\\site-packages\\pandas\\_libs\\index.pyx:76\u001b[0m, in \u001b[0;36mpandas._libs.index.IndexEngine.get_loc\u001b[1;34m()\u001b[0m\n",
      "File \u001b[1;32m~\\anaconda3\\lib\\site-packages\\pandas\\_libs\\index.pyx:108\u001b[0m, in \u001b[0;36mpandas._libs.index.IndexEngine.get_loc\u001b[1;34m()\u001b[0m\n",
      "File \u001b[1;32mpandas\\_libs\\hashtable_class_helper.pxi:5198\u001b[0m, in \u001b[0;36mpandas._libs.hashtable.PyObjectHashTable.get_item\u001b[1;34m()\u001b[0m\n",
      "File \u001b[1;32mpandas\\_libs\\hashtable_class_helper.pxi:5206\u001b[0m, in \u001b[0;36mpandas._libs.hashtable.PyObjectHashTable.get_item\u001b[1;34m()\u001b[0m\n",
      "\u001b[1;31mKeyError\u001b[0m: '18~29_ride'",
      "\nThe above exception was the direct cause of the following exception:\n",
      "\u001b[1;31mKeyError\u001b[0m                                  Traceback (most recent call last)",
      "Input \u001b[1;32mIn [15]\u001b[0m, in \u001b[0;36m<cell line: 5>\u001b[1;34m()\u001b[0m\n\u001b[0;32m      3\u001b[0m predict[\u001b[38;5;124m'\u001b[39m\u001b[38;5;124mlgbm\u001b[39m\u001b[38;5;124m'\u001b[39m] \u001b[38;5;241m=\u001b[39m lgbm_predict\n\u001b[0;32m      4\u001b[0m predict[\u001b[38;5;124m'\u001b[39m\u001b[38;5;124mmean\u001b[39m\u001b[38;5;124m'\u001b[39m] \u001b[38;5;241m=\u001b[39m (rf_predict \u001b[38;5;241m+\u001b[39m xgb_predict \u001b[38;5;241m+\u001b[39m lgbm_predict)\u001b[38;5;241m/\u001b[39m\u001b[38;5;241m3\u001b[39m\n\u001b[1;32m----> 5\u001b[0m predict[\u001b[38;5;124m'\u001b[39m\u001b[38;5;124mreal\u001b[39m\u001b[38;5;124m'\u001b[39m] \u001b[38;5;241m=\u001b[39m \u001b[43mtrain\u001b[49m\u001b[43m[\u001b[49m\u001b[38;5;124;43m'\u001b[39;49m\u001b[38;5;124;43m18~29_ride\u001b[39;49m\u001b[38;5;124;43m'\u001b[39;49m\u001b[43m]\u001b[49m\n",
      "File \u001b[1;32m~\\anaconda3\\lib\\site-packages\\pandas\\core\\frame.py:3455\u001b[0m, in \u001b[0;36mDataFrame.__getitem__\u001b[1;34m(self, key)\u001b[0m\n\u001b[0;32m   3453\u001b[0m \u001b[38;5;28;01mif\u001b[39;00m \u001b[38;5;28mself\u001b[39m\u001b[38;5;241m.\u001b[39mcolumns\u001b[38;5;241m.\u001b[39mnlevels \u001b[38;5;241m>\u001b[39m \u001b[38;5;241m1\u001b[39m:\n\u001b[0;32m   3454\u001b[0m     \u001b[38;5;28;01mreturn\u001b[39;00m \u001b[38;5;28mself\u001b[39m\u001b[38;5;241m.\u001b[39m_getitem_multilevel(key)\n\u001b[1;32m-> 3455\u001b[0m indexer \u001b[38;5;241m=\u001b[39m \u001b[38;5;28;43mself\u001b[39;49m\u001b[38;5;241;43m.\u001b[39;49m\u001b[43mcolumns\u001b[49m\u001b[38;5;241;43m.\u001b[39;49m\u001b[43mget_loc\u001b[49m\u001b[43m(\u001b[49m\u001b[43mkey\u001b[49m\u001b[43m)\u001b[49m\n\u001b[0;32m   3456\u001b[0m \u001b[38;5;28;01mif\u001b[39;00m is_integer(indexer):\n\u001b[0;32m   3457\u001b[0m     indexer \u001b[38;5;241m=\u001b[39m [indexer]\n",
      "File \u001b[1;32m~\\anaconda3\\lib\\site-packages\\pandas\\core\\indexes\\base.py:3363\u001b[0m, in \u001b[0;36mIndex.get_loc\u001b[1;34m(self, key, method, tolerance)\u001b[0m\n\u001b[0;32m   3361\u001b[0m         \u001b[38;5;28;01mreturn\u001b[39;00m \u001b[38;5;28mself\u001b[39m\u001b[38;5;241m.\u001b[39m_engine\u001b[38;5;241m.\u001b[39mget_loc(casted_key)\n\u001b[0;32m   3362\u001b[0m     \u001b[38;5;28;01mexcept\u001b[39;00m \u001b[38;5;167;01mKeyError\u001b[39;00m \u001b[38;5;28;01mas\u001b[39;00m err:\n\u001b[1;32m-> 3363\u001b[0m         \u001b[38;5;28;01mraise\u001b[39;00m \u001b[38;5;167;01mKeyError\u001b[39;00m(key) \u001b[38;5;28;01mfrom\u001b[39;00m \u001b[38;5;21;01merr\u001b[39;00m\n\u001b[0;32m   3365\u001b[0m \u001b[38;5;28;01mif\u001b[39;00m is_scalar(key) \u001b[38;5;129;01mand\u001b[39;00m isna(key) \u001b[38;5;129;01mand\u001b[39;00m \u001b[38;5;129;01mnot\u001b[39;00m \u001b[38;5;28mself\u001b[39m\u001b[38;5;241m.\u001b[39mhasnans:\n\u001b[0;32m   3366\u001b[0m     \u001b[38;5;28;01mraise\u001b[39;00m \u001b[38;5;167;01mKeyError\u001b[39;00m(key)\n",
      "\u001b[1;31mKeyError\u001b[0m: '18~29_ride'"
     ]
    }
   ],
   "source": [
    "predict['rf'] = rf_predict\n",
    "predict['xgb'] = xgb_predict\n",
    "predict['lgbm'] = lgbm_predict\n",
    "predict['mean'] = (rf_predict + xgb_predict + lgbm_predict)/3\n",
    "predict['real'] = train['18~29_ride']"
   ]
  },
  {
   "cell_type": "code",
   "execution_count": 107,
   "id": "025d43c4",
   "metadata": {},
   "outputs": [
    {
     "data": {
      "text/html": [
       "<div>\n",
       "<style scoped>\n",
       "    .dataframe tbody tr th:only-of-type {\n",
       "        vertical-align: middle;\n",
       "    }\n",
       "\n",
       "    .dataframe tbody tr th {\n",
       "        vertical-align: top;\n",
       "    }\n",
       "\n",
       "    .dataframe thead th {\n",
       "        text-align: right;\n",
       "    }\n",
       "</style>\n",
       "<table border=\"1\" class=\"dataframe\">\n",
       "  <thead>\n",
       "    <tr style=\"text-align: right;\">\n",
       "      <th></th>\n",
       "      <th>rf</th>\n",
       "      <th>xgb</th>\n",
       "      <th>lgbm</th>\n",
       "      <th>mean</th>\n",
       "    </tr>\n",
       "  </thead>\n",
       "  <tbody>\n",
       "    <tr>\n",
       "      <th>0</th>\n",
       "      <td>0.574263</td>\n",
       "      <td>0.371870</td>\n",
       "      <td>0.545086</td>\n",
       "      <td>0.497073</td>\n",
       "    </tr>\n",
       "    <tr>\n",
       "      <th>1</th>\n",
       "      <td>0.359728</td>\n",
       "      <td>0.099094</td>\n",
       "      <td>0.183318</td>\n",
       "      <td>0.214046</td>\n",
       "    </tr>\n",
       "    <tr>\n",
       "      <th>2</th>\n",
       "      <td>0.138329</td>\n",
       "      <td>0.152509</td>\n",
       "      <td>0.116539</td>\n",
       "      <td>0.135793</td>\n",
       "    </tr>\n",
       "    <tr>\n",
       "      <th>3</th>\n",
       "      <td>0.129240</td>\n",
       "      <td>0.360760</td>\n",
       "      <td>0.205668</td>\n",
       "      <td>0.231889</td>\n",
       "    </tr>\n",
       "    <tr>\n",
       "      <th>4</th>\n",
       "      <td>0.058800</td>\n",
       "      <td>0.046879</td>\n",
       "      <td>0.029344</td>\n",
       "      <td>0.045008</td>\n",
       "    </tr>\n",
       "    <tr>\n",
       "      <th>...</th>\n",
       "      <td>...</td>\n",
       "      <td>...</td>\n",
       "      <td>...</td>\n",
       "      <td>...</td>\n",
       "    </tr>\n",
       "    <tr>\n",
       "      <th>290791</th>\n",
       "      <td>0.051301</td>\n",
       "      <td>0.002663</td>\n",
       "      <td>0.017519</td>\n",
       "      <td>0.023828</td>\n",
       "    </tr>\n",
       "    <tr>\n",
       "      <th>290792</th>\n",
       "      <td>0.431791</td>\n",
       "      <td>0.367938</td>\n",
       "      <td>0.404935</td>\n",
       "      <td>0.401555</td>\n",
       "    </tr>\n",
       "    <tr>\n",
       "      <th>290793</th>\n",
       "      <td>0.150508</td>\n",
       "      <td>0.335344</td>\n",
       "      <td>0.107142</td>\n",
       "      <td>0.197664</td>\n",
       "    </tr>\n",
       "    <tr>\n",
       "      <th>290794</th>\n",
       "      <td>0.127986</td>\n",
       "      <td>0.085806</td>\n",
       "      <td>0.100264</td>\n",
       "      <td>0.104685</td>\n",
       "    </tr>\n",
       "    <tr>\n",
       "      <th>290795</th>\n",
       "      <td>0.051660</td>\n",
       "      <td>0.167610</td>\n",
       "      <td>0.071342</td>\n",
       "      <td>0.096871</td>\n",
       "    </tr>\n",
       "  </tbody>\n",
       "</table>\n",
       "<p>290796 rows × 4 columns</p>\n",
       "</div>"
      ],
      "text/plain": [
       "              rf       xgb      lgbm      mean\n",
       "0       0.574263  0.371870  0.545086  0.497073\n",
       "1       0.359728  0.099094  0.183318  0.214046\n",
       "2       0.138329  0.152509  0.116539  0.135793\n",
       "3       0.129240  0.360760  0.205668  0.231889\n",
       "4       0.058800  0.046879  0.029344  0.045008\n",
       "...          ...       ...       ...       ...\n",
       "290791  0.051301  0.002663  0.017519  0.023828\n",
       "290792  0.431791  0.367938  0.404935  0.401555\n",
       "290793  0.150508  0.335344  0.107142  0.197664\n",
       "290794  0.127986  0.085806  0.100264  0.104685\n",
       "290795  0.051660  0.167610  0.071342  0.096871\n",
       "\n",
       "[290796 rows x 4 columns]"
      ]
     },
     "execution_count": 107,
     "metadata": {},
     "output_type": "execute_result"
    }
   ],
   "source": [
    "predict"
   ]
  },
  {
   "cell_type": "code",
   "execution_count": 1,
   "id": "ba9465f6",
   "metadata": {},
   "outputs": [
    {
     "ename": "NameError",
     "evalue": "name 'predict' is not defined",
     "output_type": "error",
     "traceback": [
      "\u001b[1;31m---------------------------------------------------------------------------\u001b[0m",
      "\u001b[1;31mNameError\u001b[0m                                 Traceback (most recent call last)",
      "Input \u001b[1;32mIn [1]\u001b[0m, in \u001b[0;36m<cell line: 1>\u001b[1;34m()\u001b[0m\n\u001b[1;32m----> 1\u001b[0m test[\u001b[38;5;124m'\u001b[39m\u001b[38;5;124m18~20_ride\u001b[39m\u001b[38;5;124m'\u001b[39m] \u001b[38;5;241m=\u001b[39m \u001b[43mpredict\u001b[49m[\u001b[38;5;124m'\u001b[39m\u001b[38;5;124mmean\u001b[39m\u001b[38;5;124m'\u001b[39m]\n",
      "\u001b[1;31mNameError\u001b[0m: name 'predict' is not defined"
     ]
    }
   ],
   "source": []
  },
  {
   "cell_type": "markdown",
   "id": "85905801",
   "metadata": {},
   "source": [
    "행 갯수가 왜 다를까 .. "
   ]
  }
 ],
 "metadata": {
  "kernelspec": {
   "display_name": "Python 3 (ipykernel)",
   "language": "python",
   "name": "python3"
  },
  "language_info": {
   "codemirror_mode": {
    "name": "ipython",
    "version": 3
   },
   "file_extension": ".py",
   "mimetype": "text/x-python",
   "name": "python",
   "nbconvert_exporter": "python",
   "pygments_lexer": "ipython3",
   "version": "3.9.12"
  }
 },
 "nbformat": 4,
 "nbformat_minor": 5
}
